{
 "cells": [
  {
   "cell_type": "markdown",
   "metadata": {
    "cell_style": "center"
   },
   "source": [
    " # Import Packages"
   ]
  },
  {
   "cell_type": "code",
   "execution_count": 1,
   "metadata": {
    "collapsed": false
   },
   "outputs": [
    {
     "name": "stderr",
     "output_type": "stream",
     "text": [
      "/Users/honda/anaconda/lib/python2.7/site-packages/pandas/computation/__init__.py:19: UserWarning: The installed version of numexpr 2.4.4 is not supported in pandas and will be not be used\n",
      "\n",
      "  UserWarning)\n",
      "/Users/honda/anaconda/lib/python2.7/site-packages/matplotlib/__init__.py:872: UserWarning: axes.color_cycle is deprecated and replaced with axes.prop_cycle; please use the latter.\n",
      "  warnings.warn(self.msg_depr % (key, alt_key))\n"
     ]
    }
   ],
   "source": [
    "import numpy as np\n",
    "import matplotlib.pyplot as plt\n",
    "import seaborn as sns\n",
    "import pandas as pd\n",
    "import cPickle\n",
    "sns.set(style='white',palette='muted',color_codes=True)\n",
    "sns.set_style(\"whitegrid\")\n",
    "%matplotlib inline"
   ]
  },
  {
   "cell_type": "markdown",
   "metadata": {},
   "source": [
    "# Unpickle data"
   ]
  },
  {
   "cell_type": "code",
   "execution_count": 2,
   "metadata": {
    "collapsed": true
   },
   "outputs": [],
   "source": [
    "#Functiion for unpickle the data.\n",
    "def unpickle(f):\n",
    "    fo = open(f,'rb')\n",
    "    d = cPickle.load(fo)\n",
    "    fo.close()\n",
    "    return d"
   ]
  },
  {
   "cell_type": "markdown",
   "metadata": {},
   "source": [
    "# Load CIFAR-10 dataset"
   ]
  },
  {
   "cell_type": "code",
   "execution_count": 3,
   "metadata": {
    "collapsed": true
   },
   "outputs": [],
   "source": [
    "def load_cifar10(dir):\n",
    "    train_data=[]\n",
    "    train_target=[]\n",
    "    \n",
    "    for i in range(1,6):\n",
    "        d = unpickle('%s/data_batch_%d' %(dir,i))\n",
    "        train_data.extend(d['data'])\n",
    "        train_target.extend(d['labels'])\n",
    "        \n",
    "    d = unpickle('%s/test_batch' %(dir))\n",
    "    test_data = d['data']\n",
    "    test_target = d['labels']\n",
    "    \n",
    "    train_data = np.array(train_data,dtype=np.float32)\n",
    "    train_target = np.array(train_target,dtype=np.int32)\n",
    "    test_data = np.array(test_data,dtype=np.float32)\n",
    "    test_target = np.array(test_target,dtype=np.int32)\n",
    "    \n",
    "    train_data /=255.0\n",
    "    test_data /=255.0\n",
    "    \n",
    "    return train_data,test_data,train_target,test_target"
   ]
  },
  {
   "cell_type": "code",
   "execution_count": 4,
   "metadata": {
    "collapsed": false
   },
   "outputs": [],
   "source": [
    "X_train,X_test,y_train,y_test = load_cifar10(\"cifar-10-batches-py\")"
   ]
  },
  {
   "cell_type": "code",
   "execution_count": 5,
   "metadata": {
    "collapsed": false
   },
   "outputs": [],
   "source": [
    "X_train = X_train.reshape((len(X_train),3,32,32))\n",
    "X_test = X_test.reshape((len(X_test),3,32,32))"
   ]
  },
  {
   "cell_type": "code",
   "execution_count": 6,
   "metadata": {
    "collapsed": false
   },
   "outputs": [
    {
     "data": {
      "text/plain": [
       "(0, 6000)"
      ]
     },
     "execution_count": 6,
     "metadata": {},
     "output_type": "execute_result"
    },
    {
     "data": {
      "image/png": "[encoded data removed]",
      "text/plain": [
       "<matplotlib.figure.Figure at 0x10bb297d0>"
      ]
     },
     "metadata": {},
     "output_type": "display_data"
    }
   ],
   "source": [
    "plt.hist(y_train)\n",
    "plt.xlim(0,9)\n",
    "plt.ylim(0,6000)"
   ]
  },
  {
   "cell_type": "code",
   "execution_count": 7,
   "metadata": {
    "collapsed": false
   },
   "outputs": [
    {
     "name": "stderr",
     "output_type": "stream",
     "text": [
      "/Users/honda/anaconda/lib/python2.7/site-packages/numpy/lib/function_base.py:564: VisibleDeprecationWarning: using a non-integer number instead of an integer will result in an error in the future\n",
      "  n = np.zeros(bins, ntype)\n",
      "/Users/honda/anaconda/lib/python2.7/site-packages/numpy/lib/function_base.py:600: VisibleDeprecationWarning: using a non-integer number instead of an integer will result in an error in the future\n",
      "  n += np.bincount(indices, weights=tmp_w, minlength=bins).astype(ntype)\n"
     ]
    },
    {
     "data": {
      "text/plain": [
       "<matplotlib.text.Text at 0x115239dd0>"
      ]
     },
     "execution_count": 7,
     "metadata": {},
     "output_type": "execute_result"
    },
    {
     "data": {
      "image/png": "[encoded data removed]",
      "text/plain": [
       "<matplotlib.figure.Figure at 0x11337b910>"
      ]
     },
     "metadata": {},
     "output_type": "display_data"
    }
   ],
   "source": [
    "sns.distplot(y_train,kde=False,rug=False,color='b')\n",
    "plt.ylim(0,6000)\n",
    "plt.xticks(fontsize=15)\n",
    "plt.yticks(fontsize=15)\n",
    "plt.xlabel('Label',fontsize=15)\n",
    "plt.ylabel('Frequency',fontsize=15)\n",
    "#plt.title('Distribution of Training Data',fontsize=15)"
   ]
  },
  {
   "cell_type": "code",
   "execution_count": 8,
   "metadata": {
    "collapsed": false
   },
   "outputs": [
    {
     "data": {
      "text/plain": [
       "<matplotlib.text.Text at 0x102b82150>"
      ]
     },
     "execution_count": 8,
     "metadata": {},
     "output_type": "execute_result"
    },
    {
     "data": {
      "image/png": "[encoded data removed]",
      "text/plain": [
       "<matplotlib.figure.Figure at 0x10f72b590>"
      ]
     },
     "metadata": {},
     "output_type": "display_data"
    }
   ],
   "source": [
    "sns.distplot(y_test,kde=False,rug=False,color='r')\n",
    "plt.ylim(0,1500)\n",
    "\n",
    "plt.xticks(fontsize=15)\n",
    "plt.yticks(fontsize=15)\n",
    "plt.xlabel('Label',fontsize=15)\n",
    "plt.ylabel('Frequency',fontsize=15)\n",
    "#plt.title(\"Distribution of Test Data\",fontsize=15)"
   ]
  },
  {
   "cell_type": "code",
   "execution_count": 9,
   "metadata": {
    "collapsed": false
   },
   "outputs": [
    {
     "name": "stdout",
     "output_type": "stream",
     "text": [
      "Couldn't import dot_parser, loading of dot files will not be possible.\n"
     ]
    },
    {
     "name": "stderr",
     "output_type": "stream",
     "text": [
      "Using Theano backend.\n"
     ]
    }
   ],
   "source": [
    "from keras.utils import np_utils\n",
    "nb_classes =10\n",
    "\n",
    "#Change the target values into one-hot vectors \n",
    "y_train = np_utils.to_categorical(y_train, nb_classes)\n",
    "y_test = np_utils.to_categorical(y_test, nb_classes)"
   ]
  },
  {
   "cell_type": "code",
   "execution_count": 10,
   "metadata": {
    "collapsed": false
   },
   "outputs": [
    {
     "data": {
      "text/plain": [
       "array([[ 0.,  0.,  0., ...,  0.,  0.,  0.],\n",
       "       [ 0.,  0.,  0., ...,  0.,  1.,  0.],\n",
       "       [ 0.,  0.,  0., ...,  0.,  1.,  0.],\n",
       "       ..., \n",
       "       [ 0.,  0.,  0., ...,  0.,  0.,  0.],\n",
       "       [ 0.,  1.,  0., ...,  0.,  0.,  0.],\n",
       "       [ 0.,  0.,  0., ...,  1.,  0.,  0.]])"
      ]
     },
     "execution_count": 10,
     "metadata": {},
     "output_type": "execute_result"
    }
   ],
   "source": [
    "y_test\n",
    "#y_train"
   ]
  },
  {
   "cell_type": "code",
   "execution_count": null,
   "metadata": {
    "collapsed": true
   },
   "outputs": [],
   "source": []
  },
  {
   "cell_type": "markdown",
   "metadata": {},
   "source": [
    "# Import Deep Learning Library"
   ]
  },
  {
   "cell_type": "code",
   "execution_count": 11,
   "metadata": {
    "collapsed": false
   },
   "outputs": [],
   "source": [
    "from keras.models import Sequential\n",
    "from keras.layers import Dense,Activation,MaxPooling2D,Flatten\n",
    "from keras.layers import Convolution2D\n",
    "from keras.utils import np_utils\n",
    "from keras.optimizers import SGD,Adam\n",
    "from keras import backend as K\n",
    "from IPython.display import SVG\n",
    "from keras.utils.visualize_util import model_to_dot, plot"
   ]
  },
  {
   "cell_type": "markdown",
   "metadata": {},
   "source": [
    "# Model 1(1 Convolution layer and 2 Fully Connected layers)"
   ]
  },
  {
   "cell_type": "code",
   "execution_count": 12,
   "metadata": {
    "collapsed": false
   },
   "outputs": [],
   "source": [
    "batch_size = 32\n",
    "nb_classes = 10\n",
    "nb_epoch = 20\n",
    "nb_filters=32\n",
    "model = Sequential()\n",
    "model.add(Convolution2D(nb_filters,3,3,border_mode='same',input_shape=(3,32,32)))\n",
    "model.add(Activation('relu'))\n",
    "model.add(MaxPooling2D(pool_size=(2,2)))\n",
    "model.add(Flatten())\n",
    "model.add(Dense(output_dim=512,input_dim=7200,activation='relu'))\n",
    "model.add(Dense(output_dim=nb_classes,input_dim=512))\n",
    "model.add(Activation('softmax'))\n",
    "\n",
    "sgd = SGD(lr=0.01, decay=1e-6, momentum=0.9, nesterov=True)\n",
    "model.compile(loss='categorical_crossentropy',\n",
    "              optimizer=sgd,\n",
    "              metrics=['accuracy'])\n",
    "\n"
   ]
  },
  {
   "cell_type": "code",
   "execution_count": 13,
   "metadata": {
    "collapsed": false
   },
   "outputs": [
    {
     "name": "stdout",
     "output_type": "stream",
     "text": [
      "Train on 50000 samples, validate on 10000 samples\n",
      "Epoch 1/20\n",
      "50000/50000 [==============================] - 95s - loss: 1.4619 - acc: 0.4775 - val_loss: 1.2305 - val_acc: 0.5572\n",
      "Epoch 2/20\n",
      "50000/50000 [==============================] - 95s - loss: 1.1170 - acc: 0.6062 - val_loss: 1.0650 - val_acc: 0.6281\n",
      "Epoch 3/20\n",
      "50000/50000 [==============================] - 95s - loss: 0.9253 - acc: 0.6735 - val_loss: 1.1298 - val_acc: 0.6021\n",
      "Epoch 4/20\n",
      "50000/50000 [==============================] - 95s - loss: 0.7498 - acc: 0.7370 - val_loss: 1.0474 - val_acc: 0.6420\n",
      "Epoch 5/20\n",
      "50000/50000 [==============================] - 94s - loss: 0.5863 - acc: 0.7949 - val_loss: 1.1067 - val_acc: 0.6545\n",
      "Epoch 6/20\n",
      "50000/50000 [==============================] - 94s - loss: 0.4272 - acc: 0.8526 - val_loss: 1.1732 - val_acc: 0.6518\n",
      "Epoch 7/20\n",
      "50000/50000 [==============================] - 95s - loss: 0.2856 - acc: 0.9029 - val_loss: 1.2828 - val_acc: 0.6526\n",
      "Epoch 8/20\n",
      "50000/50000 [==============================] - 96s - loss: 0.1945 - acc: 0.9346 - val_loss: 1.4605 - val_acc: 0.6593\n",
      "Epoch 9/20\n",
      "50000/50000 [==============================] - 95s - loss: 0.1385 - acc: 0.9543 - val_loss: 1.6069 - val_acc: 0.6545\n",
      "Epoch 10/20\n",
      "50000/50000 [==============================] - 96s - loss: 0.0960 - acc: 0.9692 - val_loss: 1.6943 - val_acc: 0.6564\n",
      "Epoch 11/20\n",
      "50000/50000 [==============================] - 95s - loss: 0.0785 - acc: 0.9754 - val_loss: 1.8204 - val_acc: 0.6654\n",
      "Epoch 12/20\n",
      "50000/50000 [==============================] - 95s - loss: 0.0700 - acc: 0.9781 - val_loss: 1.8392 - val_acc: 0.6605\n",
      "Epoch 13/20\n",
      "50000/50000 [==============================] - 95s - loss: 0.0472 - acc: 0.9861 - val_loss: 1.9582 - val_acc: 0.6605\n",
      "Epoch 14/20\n",
      "50000/50000 [==============================] - 95s - loss: 0.0452 - acc: 0.9864 - val_loss: 2.0268 - val_acc: 0.6607\n",
      "Epoch 15/20\n",
      "50000/50000 [==============================] - 97s - loss: 0.0304 - acc: 0.9911 - val_loss: 2.0086 - val_acc: 0.6685\n",
      "Epoch 16/20\n",
      "50000/50000 [==============================] - 97s - loss: 0.0213 - acc: 0.9947 - val_loss: 2.1312 - val_acc: 0.6695\n",
      "Epoch 17/20\n",
      "50000/50000 [==============================] - 96s - loss: 0.0143 - acc: 0.9963 - val_loss: 2.1058 - val_acc: 0.6769\n",
      "Epoch 18/20\n",
      "50000/50000 [==============================] - 96s - loss: 0.0063 - acc: 0.9988 - val_loss: 2.1202 - val_acc: 0.6794\n",
      "Epoch 19/20\n",
      "50000/50000 [==============================] - 96s - loss: 0.0021 - acc: 0.9998 - val_loss: 2.1460 - val_acc: 0.6818\n",
      "Epoch 20/20\n",
      "50000/50000 [==============================] - 97s - loss: 0.0012 - acc: 0.9998 - val_loss: 2.1775 - val_acc: 0.6848\n"
     ]
    }
   ],
   "source": [
    "res = model.fit(X_train,y_train,\n",
    "              batch_size=batch_size,\n",
    "              nb_epoch=nb_epoch,\n",
    "              validation_data=(X_test, y_test),\n",
    "              shuffle=True)"
   ]
  },
  {
   "cell_type": "code",
   "execution_count": 14,
   "metadata": {
    "collapsed": false
   },
   "outputs": [
    {
     "data": {
      "text/plain": [
       "[0.47749999999999998,\n",
       " 0.60618000000000005,\n",
       " 0.67349999999999999,\n",
       " 0.73699999999999999,\n",
       " 0.79488000000000003,\n",
       " 0.85255999999999998,\n",
       " 0.90293999999999996,\n",
       " 0.93464000000000003,\n",
       " 0.95430000000000004,\n",
       " 0.96919999999999995,\n",
       " 0.97540000000000004,\n",
       " 0.97809999999999997,\n",
       " 0.98606000000000005,\n",
       " 0.98640000000000005,\n",
       " 0.99109999999999998,\n",
       " 0.99468000000000001,\n",
       " 0.99626000000000003,\n",
       " 0.99878,\n",
       " 0.99975999999999998,\n",
       " 0.99982000000000004]"
      ]
     },
     "execution_count": 14,
     "metadata": {},
     "output_type": "execute_result"
    }
   ],
   "source": [
    "res.history['acc']"
   ]
  },
  {
   "cell_type": "code",
   "execution_count": 15,
   "metadata": {
    "collapsed": false
   },
   "outputs": [
    {
     "data": {
      "text/plain": [
       "[0.55720000000000003,\n",
       " 0.62809999999999999,\n",
       " 0.60209999999999997,\n",
       " 0.64200000000000002,\n",
       " 0.65449999999999997,\n",
       " 0.65180000000000005,\n",
       " 0.65259999999999996,\n",
       " 0.6593,\n",
       " 0.65449999999999997,\n",
       " 0.65639999999999998,\n",
       " 0.66539999999999999,\n",
       " 0.66049999999999998,\n",
       " 0.66049999999999998,\n",
       " 0.66069999999999995,\n",
       " 0.66849999999999998,\n",
       " 0.66949999999999998,\n",
       " 0.67689999999999995,\n",
       " 0.6794,\n",
       " 0.68179999999999996,\n",
       " 0.68479999999999996]"
      ]
     },
     "execution_count": 15,
     "metadata": {},
     "output_type": "execute_result"
    }
   ],
   "source": [
    "res.history['val_acc']"
   ]
  },
  {
   "cell_type": "code",
   "execution_count": null,
   "metadata": {
    "collapsed": false
   },
   "outputs": [],
   "source": []
  },
  {
   "cell_type": "code",
   "execution_count": 16,
   "metadata": {
    "collapsed": false
   },
   "outputs": [
    {
     "data": {
      "text/plain": [
       "<matplotlib.legend.Legend at 0x113433c90>"
      ]
     },
     "execution_count": 16,
     "metadata": {},
     "output_type": "execute_result"
    },
    {
     "data": {
      "image/png": "[encoded data removed]",
      "text/plain": [
       "<matplotlib.figure.Figure at 0x112537d90>"
      ]
     },
     "metadata": {},
     "output_type": "display_data"
    }
   ],
   "source": [
    "x=range(nb_epoch)\n",
    "plt.plot(x,res.history['acc'],label='Training')\n",
    "plt.plot(x,res.history['val_acc'],label='Test')\n",
    "plt.xlabel('Number of Epochs')\n",
    "plt.ylabel('Accuracy Score')\n",
    "plt.legend(loc='best')\n"
   ]
  },
  {
   "cell_type": "code",
   "execution_count": 17,
   "metadata": {
    "collapsed": false
   },
   "outputs": [
    {
     "data": {
      "image/svg+xml": [
       "<svg height=\"620pt\" viewBox=\"0.00 0.00 397.00 620.00\" width=\"397pt\" xmlns=\"http://www.w3.org/2000/svg\" xmlns:xlink=\"http://www.w3.org/1999/xlink\">\n",
       "<g class=\"graph\" id=\"graph0\" transform=\"scale(1 1) rotate(0) translate(4 616)\">\n",
       "<title>G</title>\n",
       "<polygon fill=\"white\" points=\"-4,4 -4,-616 392.997,-616 392.997,4 -4,4\" stroke=\"transparent\"/>\n",
       "<!-- 4506858640 -->\n",
       "<g class=\"node\" id=\"node1\">\n",
       "<title>4506858640</title>\n",
       "<polygon fill=\"none\" points=\"0,-567.5 0,-611.5 388.997,-611.5 388.997,-567.5 0,-567.5\" stroke=\"black\"/>\n",
       "<text font-family=\"Times,serif\" font-size=\"14.00\" text-anchor=\"middle\" x=\"110.84\" y=\"-585.3\">convolution2d_input_1 (InputLayer)</text>\n",
       "<polyline fill=\"none\" points=\"221.68,-567.5 221.68,-611.5 \" stroke=\"black\"/>\n",
       "<text font-family=\"Times,serif\" font-size=\"14.00\" text-anchor=\"middle\" x=\"249.514\" y=\"-596.3\">input:</text>\n",
       "<polyline fill=\"none\" points=\"221.68,-589.5 277.349,-589.5 \" stroke=\"black\"/>\n",
       "<text font-family=\"Times,serif\" font-size=\"14.00\" text-anchor=\"middle\" x=\"249.514\" y=\"-574.3\">output:</text>\n",
       "<polyline fill=\"none\" points=\"277.349,-567.5 277.349,-611.5 \" stroke=\"black\"/>\n",
       "<text font-family=\"Times,serif\" font-size=\"14.00\" text-anchor=\"middle\" x=\"333.173\" y=\"-596.3\">(None, 3, 32, 32)</text>\n",
       "<polyline fill=\"none\" points=\"277.349,-589.5 388.997,-589.5 \" stroke=\"black\"/>\n",
       "<text font-family=\"Times,serif\" font-size=\"14.00\" text-anchor=\"middle\" x=\"333.173\" y=\"-574.3\">(None, 3, 32, 32)</text>\n",
       "</g>\n",
       "<!-- 4506858320 -->\n",
       "<g class=\"node\" id=\"node2\">\n",
       "<title>4506858320</title>\n",
       "<polygon fill=\"none\" points=\"1.92773,-486.5 1.92773,-530.5 387.069,-530.5 387.069,-486.5 1.92773,-486.5\" stroke=\"black\"/>\n",
       "<text font-family=\"Times,serif\" font-size=\"14.00\" text-anchor=\"middle\" x=\"107.34\" y=\"-504.3\">convolution2d_1 (Convolution2D)</text>\n",
       "<polyline fill=\"none\" points=\"212.752,-486.5 212.752,-530.5 \" stroke=\"black\"/>\n",
       "<text font-family=\"Times,serif\" font-size=\"14.00\" text-anchor=\"middle\" x=\"240.586\" y=\"-515.3\">input:</text>\n",
       "<polyline fill=\"none\" points=\"212.752,-508.5 268.421,-508.5 \" stroke=\"black\"/>\n",
       "<text font-family=\"Times,serif\" font-size=\"14.00\" text-anchor=\"middle\" x=\"240.586\" y=\"-493.3\">output:</text>\n",
       "<polyline fill=\"none\" points=\"268.421,-486.5 268.421,-530.5 \" stroke=\"black\"/>\n",
       "<text font-family=\"Times,serif\" font-size=\"14.00\" text-anchor=\"middle\" x=\"327.745\" y=\"-515.3\">(None, 3, 32, 32)</text>\n",
       "<polyline fill=\"none\" points=\"268.421,-508.5 387.069,-508.5 \" stroke=\"black\"/>\n",
       "<text font-family=\"Times,serif\" font-size=\"14.00\" text-anchor=\"middle\" x=\"327.745\" y=\"-493.3\">(None, 32, 32, 32)</text>\n",
       "</g>\n",
       "<!-- 4506858640&#45;&gt;4506858320 -->\n",
       "<g class=\"edge\" id=\"edge1\">\n",
       "<title>4506858640-&gt;4506858320</title>\n",
       "<path d=\"M194.499,-567.366C194.499,-559.152 194.499,-549.658 194.499,-540.725\" fill=\"none\" stroke=\"black\"/>\n",
       "<polygon fill=\"black\" points=\"197.999,-540.607 194.499,-530.607 190.999,-540.607 197.999,-540.607\" stroke=\"black\"/>\n",
       "</g>\n",
       "<!-- 4506858384 -->\n",
       "<g class=\"node\" id=\"node3\">\n",
       "<title>4506858384</title>\n",
       "<polygon fill=\"none\" points=\"28.7793,-405.5 28.7793,-449.5 360.218,-449.5 360.218,-405.5 28.7793,-405.5\" stroke=\"black\"/>\n",
       "<text font-family=\"Times,serif\" font-size=\"14.00\" text-anchor=\"middle\" x=\"107.34\" y=\"-423.3\">activation_1 (Activation)</text>\n",
       "<polyline fill=\"none\" points=\"185.9,-405.5 185.9,-449.5 \" stroke=\"black\"/>\n",
       "<text font-family=\"Times,serif\" font-size=\"14.00\" text-anchor=\"middle\" x=\"213.735\" y=\"-434.3\">input:</text>\n",
       "<polyline fill=\"none\" points=\"185.9,-427.5 241.569,-427.5 \" stroke=\"black\"/>\n",
       "<text font-family=\"Times,serif\" font-size=\"14.00\" text-anchor=\"middle\" x=\"213.735\" y=\"-412.3\">output:</text>\n",
       "<polyline fill=\"none\" points=\"241.569,-405.5 241.569,-449.5 \" stroke=\"black\"/>\n",
       "<text font-family=\"Times,serif\" font-size=\"14.00\" text-anchor=\"middle\" x=\"300.894\" y=\"-434.3\">(None, 32, 32, 32)</text>\n",
       "<polyline fill=\"none\" points=\"241.569,-427.5 360.218,-427.5 \" stroke=\"black\"/>\n",
       "<text font-family=\"Times,serif\" font-size=\"14.00\" text-anchor=\"middle\" x=\"300.894\" y=\"-412.3\">(None, 32, 32, 32)</text>\n",
       "</g>\n",
       "<!-- 4506858320&#45;&gt;4506858384 -->\n",
       "<g class=\"edge\" id=\"edge2\">\n",
       "<title>4506858320-&gt;4506858384</title>\n",
       "<path d=\"M194.499,-486.366C194.499,-478.152 194.499,-468.658 194.499,-459.725\" fill=\"none\" stroke=\"black\"/>\n",
       "<polygon fill=\"black\" points=\"197.999,-459.607 194.499,-449.607 190.999,-459.607 197.999,-459.607\" stroke=\"black\"/>\n",
       "</g>\n",
       "<!-- 4588887632 -->\n",
       "<g class=\"node\" id=\"node4\">\n",
       "<title>4588887632</title>\n",
       "<polygon fill=\"none\" points=\"2.31738,-324.5 2.31738,-368.5 386.68,-368.5 386.68,-324.5 2.31738,-324.5\" stroke=\"black\"/>\n",
       "<text font-family=\"Times,serif\" font-size=\"14.00\" text-anchor=\"middle\" x=\"107.34\" y=\"-342.3\">maxpooling2d_1 (MaxPooling2D)</text>\n",
       "<polyline fill=\"none\" points=\"212.362,-324.5 212.362,-368.5 \" stroke=\"black\"/>\n",
       "<text font-family=\"Times,serif\" font-size=\"14.00\" text-anchor=\"middle\" x=\"240.197\" y=\"-353.3\">input:</text>\n",
       "<polyline fill=\"none\" points=\"212.362,-346.5 268.031,-346.5 \" stroke=\"black\"/>\n",
       "<text font-family=\"Times,serif\" font-size=\"14.00\" text-anchor=\"middle\" x=\"240.197\" y=\"-331.3\">output:</text>\n",
       "<polyline fill=\"none\" points=\"268.031,-324.5 268.031,-368.5 \" stroke=\"black\"/>\n",
       "<text font-family=\"Times,serif\" font-size=\"14.00\" text-anchor=\"middle\" x=\"327.355\" y=\"-353.3\">(None, 32, 32, 32)</text>\n",
       "<polyline fill=\"none\" points=\"268.031,-346.5 386.68,-346.5 \" stroke=\"black\"/>\n",
       "<text font-family=\"Times,serif\" font-size=\"14.00\" text-anchor=\"middle\" x=\"327.355\" y=\"-331.3\">(None, 32, 16, 16)</text>\n",
       "</g>\n",
       "<!-- 4506858384&#45;&gt;4588887632 -->\n",
       "<g class=\"edge\" id=\"edge3\">\n",
       "<title>4506858384-&gt;4588887632</title>\n",
       "<path d=\"M194.499,-405.366C194.499,-397.152 194.499,-387.658 194.499,-378.725\" fill=\"none\" stroke=\"black\"/>\n",
       "<polygon fill=\"black\" points=\"197.999,-378.607 194.499,-368.607 190.999,-378.607 197.999,-378.607\" stroke=\"black\"/>\n",
       "</g>\n",
       "<!-- 4588887568 -->\n",
       "<g class=\"node\" id=\"node5\">\n",
       "<title>4588887568</title>\n",
       "<polygon fill=\"none\" points=\"48.9897,-243.5 48.9897,-287.5 340.007,-287.5 340.007,-243.5 48.9897,-243.5\" stroke=\"black\"/>\n",
       "<text font-family=\"Times,serif\" font-size=\"14.00\" text-anchor=\"middle\" x=\"107.34\" y=\"-261.3\">flatten_1 (Flatten)</text>\n",
       "<polyline fill=\"none\" points=\"165.69,-243.5 165.69,-287.5 \" stroke=\"black\"/>\n",
       "<text font-family=\"Times,serif\" font-size=\"14.00\" text-anchor=\"middle\" x=\"193.524\" y=\"-272.3\">input:</text>\n",
       "<polyline fill=\"none\" points=\"165.69,-265.5 221.359,-265.5 \" stroke=\"black\"/>\n",
       "<text font-family=\"Times,serif\" font-size=\"14.00\" text-anchor=\"middle\" x=\"193.524\" y=\"-250.3\">output:</text>\n",
       "<polyline fill=\"none\" points=\"221.359,-243.5 221.359,-287.5 \" stroke=\"black\"/>\n",
       "<text font-family=\"Times,serif\" font-size=\"14.00\" text-anchor=\"middle\" x=\"280.683\" y=\"-272.3\">(None, 32, 16, 16)</text>\n",
       "<polyline fill=\"none\" points=\"221.359,-265.5 340.007,-265.5 \" stroke=\"black\"/>\n",
       "<text font-family=\"Times,serif\" font-size=\"14.00\" text-anchor=\"middle\" x=\"280.683\" y=\"-250.3\">(None, 8192)</text>\n",
       "</g>\n",
       "<!-- 4588887632&#45;&gt;4588887568 -->\n",
       "<g class=\"edge\" id=\"edge4\">\n",
       "<title>4588887632-&gt;4588887568</title>\n",
       "<path d=\"M194.499,-324.366C194.499,-316.152 194.499,-306.658 194.499,-297.725\" fill=\"none\" stroke=\"black\"/>\n",
       "<polygon fill=\"black\" points=\"197.999,-297.607 194.499,-287.607 190.999,-297.607 197.999,-297.607\" stroke=\"black\"/>\n",
       "</g>\n",
       "<!-- 4589299792 -->\n",
       "<g class=\"node\" id=\"node6\">\n",
       "<title>4589299792</title>\n",
       "<polygon fill=\"none\" points=\"66.4966,-162.5 66.4966,-206.5 322.5,-206.5 322.5,-162.5 66.4966,-162.5\" stroke=\"black\"/>\n",
       "<text font-family=\"Times,serif\" font-size=\"14.00\" text-anchor=\"middle\" x=\"121.34\" y=\"-180.3\">dense_1 (Dense)</text>\n",
       "<polyline fill=\"none\" points=\"176.183,-162.5 176.183,-206.5 \" stroke=\"black\"/>\n",
       "<text font-family=\"Times,serif\" font-size=\"14.00\" text-anchor=\"middle\" x=\"204.018\" y=\"-191.3\">input:</text>\n",
       "<polyline fill=\"none\" points=\"176.183,-184.5 231.852,-184.5 \" stroke=\"black\"/>\n",
       "<text font-family=\"Times,serif\" font-size=\"14.00\" text-anchor=\"middle\" x=\"204.018\" y=\"-169.3\">output:</text>\n",
       "<polyline fill=\"none\" points=\"231.852,-162.5 231.852,-206.5 \" stroke=\"black\"/>\n",
       "<text font-family=\"Times,serif\" font-size=\"14.00\" text-anchor=\"middle\" x=\"277.176\" y=\"-191.3\">(None, 8192)</text>\n",
       "<polyline fill=\"none\" points=\"231.852,-184.5 322.5,-184.5 \" stroke=\"black\"/>\n",
       "<text font-family=\"Times,serif\" font-size=\"14.00\" text-anchor=\"middle\" x=\"277.176\" y=\"-169.3\">(None, 512)</text>\n",
       "</g>\n",
       "<!-- 4588887568&#45;&gt;4589299792 -->\n",
       "<g class=\"edge\" id=\"edge5\">\n",
       "<title>4588887568-&gt;4589299792</title>\n",
       "<path d=\"M194.499,-243.366C194.499,-235.152 194.499,-225.658 194.499,-216.725\" fill=\"none\" stroke=\"black\"/>\n",
       "<polygon fill=\"black\" points=\"197.999,-216.607 194.499,-206.607 190.999,-216.607 197.999,-216.607\" stroke=\"black\"/>\n",
       "</g>\n",
       "<!-- 4590118864 -->\n",
       "<g class=\"node\" id=\"node7\">\n",
       "<title>4590118864</title>\n",
       "<polygon fill=\"none\" points=\"69.9966,-81.5 69.9966,-125.5 319,-125.5 319,-81.5 69.9966,-81.5\" stroke=\"black\"/>\n",
       "<text font-family=\"Times,serif\" font-size=\"14.00\" text-anchor=\"middle\" x=\"124.84\" y=\"-99.3\">dense_2 (Dense)</text>\n",
       "<polyline fill=\"none\" points=\"179.683,-81.5 179.683,-125.5 \" stroke=\"black\"/>\n",
       "<text font-family=\"Times,serif\" font-size=\"14.00\" text-anchor=\"middle\" x=\"207.518\" y=\"-110.3\">input:</text>\n",
       "<polyline fill=\"none\" points=\"179.683,-103.5 235.352,-103.5 \" stroke=\"black\"/>\n",
       "<text font-family=\"Times,serif\" font-size=\"14.00\" text-anchor=\"middle\" x=\"207.518\" y=\"-88.3\">output:</text>\n",
       "<polyline fill=\"none\" points=\"235.352,-81.5 235.352,-125.5 \" stroke=\"black\"/>\n",
       "<text font-family=\"Times,serif\" font-size=\"14.00\" text-anchor=\"middle\" x=\"277.176\" y=\"-110.3\">(None, 512)</text>\n",
       "<polyline fill=\"none\" points=\"235.352,-103.5 319,-103.5 \" stroke=\"black\"/>\n",
       "<text font-family=\"Times,serif\" font-size=\"14.00\" text-anchor=\"middle\" x=\"277.176\" y=\"-88.3\">(None, 10)</text>\n",
       "</g>\n",
       "<!-- 4589299792&#45;&gt;4590118864 -->\n",
       "<g class=\"edge\" id=\"edge6\">\n",
       "<title>4589299792-&gt;4590118864</title>\n",
       "<path d=\"M194.499,-162.366C194.499,-154.152 194.499,-144.658 194.499,-135.725\" fill=\"none\" stroke=\"black\"/>\n",
       "<polygon fill=\"black\" points=\"197.999,-135.607 194.499,-125.607 190.999,-135.607 197.999,-135.607\" stroke=\"black\"/>\n",
       "</g>\n",
       "<!-- 4590117712 -->\n",
       "<g class=\"node\" id=\"node8\">\n",
       "<title>4590117712</title>\n",
       "<polygon fill=\"none\" points=\"49.7793,-0.5 49.7793,-44.5 339.218,-44.5 339.218,-0.5 49.7793,-0.5\" stroke=\"black\"/>\n",
       "<text font-family=\"Times,serif\" font-size=\"14.00\" text-anchor=\"middle\" x=\"128.34\" y=\"-18.3\">activation_2 (Activation)</text>\n",
       "<polyline fill=\"none\" points=\"206.9,-0.5 206.9,-44.5 \" stroke=\"black\"/>\n",
       "<text font-family=\"Times,serif\" font-size=\"14.00\" text-anchor=\"middle\" x=\"234.735\" y=\"-29.3\">input:</text>\n",
       "<polyline fill=\"none\" points=\"206.9,-22.5 262.569,-22.5 \" stroke=\"black\"/>\n",
       "<text font-family=\"Times,serif\" font-size=\"14.00\" text-anchor=\"middle\" x=\"234.735\" y=\"-7.3\">output:</text>\n",
       "<polyline fill=\"none\" points=\"262.569,-0.5 262.569,-44.5 \" stroke=\"black\"/>\n",
       "<text font-family=\"Times,serif\" font-size=\"14.00\" text-anchor=\"middle\" x=\"300.894\" y=\"-29.3\">(None, 10)</text>\n",
       "<polyline fill=\"none\" points=\"262.569,-22.5 339.218,-22.5 \" stroke=\"black\"/>\n",
       "<text font-family=\"Times,serif\" font-size=\"14.00\" text-anchor=\"middle\" x=\"300.894\" y=\"-7.3\">(None, 10)</text>\n",
       "</g>\n",
       "<!-- 4590118864&#45;&gt;4590117712 -->\n",
       "<g class=\"edge\" id=\"edge7\">\n",
       "<title>4590118864-&gt;4590117712</title>\n",
       "<path d=\"M194.499,-81.3664C194.499,-73.1516 194.499,-63.6579 194.499,-54.7252\" fill=\"none\" stroke=\"black\"/>\n",
       "<polygon fill=\"black\" points=\"197.999,-54.6068 194.499,-44.6068 190.999,-54.6069 197.999,-54.6068\" stroke=\"black\"/>\n",
       "</g>\n",
       "</g>\n",
       "</svg>"
      ],
      "text/plain": [
       "<IPython.core.display.SVG object>"
      ]
     },
     "execution_count": 17,
     "metadata": {},
     "output_type": "execute_result"
    }
   ],
   "source": [
    "SVG(model_to_dot(model, show_shapes=True).create(prog='dot', format='svg'))"
   ]
  },
  {
   "cell_type": "markdown",
   "metadata": {},
   "source": [
    "# Model 2 3 Convolutional layers & 2 Fully connected layers"
   ]
  },
  {
   "cell_type": "code",
   "execution_count": 18,
   "metadata": {
    "collapsed": true
   },
   "outputs": [],
   "source": [
    "model2 = Sequential()\n",
    "model2.add(Convolution2D(32,3,3,border_mode='same',input_shape=(3,32,32)))\n",
    "model2.add(Activation('relu'))\n",
    "model2.add(MaxPooling2D(pool_size=(2,2)))\n",
    "\n",
    "model2.add(Convolution2D(32,3,3,border_mode='same'))\n",
    "model2.add(Activation('relu'))\n",
    "model2.add(MaxPooling2D(pool_size=(2,2)))\n",
    "\n",
    "model2.add(Convolution2D(32,3,3,border_mode='same'))\n",
    "model2.add(Activation('relu'))\n",
    "model2.add(MaxPooling2D(pool_size=(2,2)))\n",
    "\n",
    "model2.add(Convolution2D(32,3,3,border_mode='same'))\n",
    "model2.add(Activation('relu'))\n",
    "model2.add(MaxPooling2D(pool_size=(2,2)))\n",
    "\n",
    "#model2.add(Convolution2D(32,3,3,border_mode='same'))\n",
    "#model2.add(Activation('relu'))\n",
    "#model2.add(MaxPooling2D(pool_size=(2,2)))\n",
    "\n",
    "model2.add(Flatten())\n",
    "model2.add(Dense(output_dim=512,input_dim=7200,activation='relu'))\n",
    "model2.add(Dense(output_dim=10,input_dim=512))\n",
    "model2.add(Activation('softmax'))\n",
    "\n",
    "#sgd = SGD(lr=0.01, decay=1e-6, momentum=0.9, nesterov=True)\n",
    "model2.compile(loss='categorical_crossentropy',\n",
    "              optimizer='Adam',\n",
    "              metrics=['accuracy'])\n",
    "\n"
   ]
  },
  {
   "cell_type": "code",
   "execution_count": 19,
   "metadata": {
    "collapsed": false
   },
   "outputs": [
    {
     "name": "stdout",
     "output_type": "stream",
     "text": [
      "Train on 50000 samples, validate on 10000 samples\n",
      "Epoch 1/20\n",
      "50000/50000 [==============================] - 101s - loss: 1.5147 - acc: 0.4439 - val_loss: 1.2450 - val_acc: 0.5445\n",
      "Epoch 2/20\n",
      "50000/50000 [==============================] - 104s - loss: 1.1613 - acc: 0.5857 - val_loss: 1.0891 - val_acc: 0.6086\n",
      "Epoch 3/20\n",
      "50000/50000 [==============================] - 104s - loss: 1.0047 - acc: 0.6401 - val_loss: 1.0132 - val_acc: 0.6414\n",
      "Epoch 4/20\n",
      "50000/50000 [==============================] - 106s - loss: 0.9033 - acc: 0.6797 - val_loss: 0.9575 - val_acc: 0.6602\n",
      "Epoch 5/20\n",
      "50000/50000 [==============================] - 106s - loss: 0.8267 - acc: 0.7070 - val_loss: 0.8972 - val_acc: 0.6865\n",
      "Epoch 6/20\n",
      "50000/50000 [==============================] - 105s - loss: 0.7737 - acc: 0.7255 - val_loss: 0.8987 - val_acc: 0.6894\n",
      "Epoch 7/20\n",
      "50000/50000 [==============================] - 105s - loss: 0.7305 - acc: 0.7386 - val_loss: 0.8902 - val_acc: 0.6929\n",
      "Epoch 8/20\n",
      "50000/50000 [==============================] - 105s - loss: 0.6831 - acc: 0.7571 - val_loss: 0.8659 - val_acc: 0.7071\n",
      "Epoch 9/20\n",
      "50000/50000 [==============================] - 105s - loss: 0.6479 - acc: 0.7692 - val_loss: 0.8957 - val_acc: 0.7071\n",
      "Epoch 10/20\n",
      "50000/50000 [==============================] - 105s - loss: 0.6085 - acc: 0.7829 - val_loss: 0.8672 - val_acc: 0.7212\n",
      "Epoch 11/20\n",
      "50000/50000 [==============================] - 105s - loss: 0.5824 - acc: 0.7906 - val_loss: 0.8636 - val_acc: 0.7185\n",
      "Epoch 12/20\n",
      "50000/50000 [==============================] - 106s - loss: 0.5417 - acc: 0.8067 - val_loss: 0.9019 - val_acc: 0.7138\n",
      "Epoch 13/20\n",
      "50000/50000 [==============================] - 104s - loss: 0.5203 - acc: 0.8128 - val_loss: 0.8922 - val_acc: 0.7207\n",
      "Epoch 14/20\n",
      "50000/50000 [==============================] - 105s - loss: 0.4873 - acc: 0.8258 - val_loss: 0.8903 - val_acc: 0.7199\n",
      "Epoch 15/20\n",
      "50000/50000 [==============================] - 104s - loss: 0.4625 - acc: 0.8332 - val_loss: 0.9647 - val_acc: 0.7020\n",
      "Epoch 16/20\n",
      "50000/50000 [==============================] - 104s - loss: 0.4376 - acc: 0.8406 - val_loss: 0.9502 - val_acc: 0.7247\n",
      "Epoch 17/20\n",
      "50000/50000 [==============================] - 104s - loss: 0.4190 - acc: 0.8493 - val_loss: 0.9860 - val_acc: 0.7133\n",
      "Epoch 18/20\n",
      "50000/50000 [==============================] - 106s - loss: 0.3950 - acc: 0.8588 - val_loss: 1.0775 - val_acc: 0.7042\n",
      "Epoch 19/20\n",
      "50000/50000 [==============================] - 105s - loss: 0.3774 - acc: 0.8624 - val_loss: 1.1233 - val_acc: 0.7042\n",
      "Epoch 20/20\n",
      "50000/50000 [==============================] - 105s - loss: 0.3561 - acc: 0.8699 - val_loss: 1.0878 - val_acc: 0.7058\n"
     ]
    }
   ],
   "source": [
    "res2 = model2.fit(X_train,y_train,\n",
    "              batch_size=batch_size,\n",
    "              nb_epoch=nb_epoch,\n",
    "              validation_data=(X_test, y_test),\n",
    "              shuffle=True)"
   ]
  },
  {
   "cell_type": "code",
   "execution_count": 20,
   "metadata": {
    "collapsed": false
   },
   "outputs": [
    {
     "data": {
      "text/plain": [
       "<matplotlib.legend.Legend at 0x1163c9490>"
      ]
     },
     "execution_count": 20,
     "metadata": {},
     "output_type": "execute_result"
    },
    {
     "data": {
      "image/png": "[encoded data removed]",
      "text/plain": [
       "<matplotlib.figure.Figure at 0x115dc5c10>"
      ]
     },
     "metadata": {},
     "output_type": "display_data"
    }
   ],
   "source": [
    "x=range(nb_epoch)\n",
    "plt.plot(x,res2.history['acc'],label='Training')\n",
    "plt.plot(x,res2.history['val_acc'],label='Test')\n",
    "plt.xlabel('Number of Epochs')\n",
    "plt.ylabel('Accuracy Score')\n",
    "plt.legend(loc='best')\n"
   ]
  },
  {
   "cell_type": "code",
   "execution_count": null,
   "metadata": {
    "collapsed": true
   },
   "outputs": [],
   "source": [
    "SVG(model_to_dot(model2, show_shapes=True).create(prog='dot', format='svg'))"
   ]
  },
  {
   "cell_type": "code",
   "execution_count": null,
   "metadata": {
    "collapsed": true
   },
   "outputs": [],
   "source": []
  },
  {
   "cell_type": "markdown",
   "metadata": {},
   "source": [
    "# Model 3 3 Convolutional layers & 2 Fully connected layers"
   ]
  },
  {
   "cell_type": "code",
   "execution_count": 21,
   "metadata": {
    "collapsed": false
   },
   "outputs": [],
   "source": [
    "model3 = Sequential()\n",
    "model3.add(Convolution2D(32,3,3,border_mode='same',input_shape=(3,32,32)))\n",
    "model3.add(Activation('relu'))\n",
    "model3.add(MaxPooling2D(pool_size=(2,2)))\n",
    "\n",
    "model3.add(Convolution2D(32,3,3,border_mode='same'))\n",
    "model3.add(Activation('relu'))\n",
    "model3.add(MaxPooling2D(pool_size=(2,2)))\n",
    "\n",
    "model3.add(Convolution2D(32,3,3,border_mode='same'))\n",
    "model3.add(Activation('relu'))\n",
    "model3.add(MaxPooling2D(pool_size=(2,2)))\n",
    "\n",
    "model3.add(Flatten())\n",
    "model3.add(Dense(output_dim=512,input_dim=7200,activation='relu'))\n",
    "model3.add(Dense(output_dim=10,input_dim=512))\n",
    "model3.add(Activation('softmax'))\n",
    "\n",
    "#sgd = SGD(lr=0.01, decay=1e-6, momentum=0.9, nesterov=True)\n",
    "model3.compile(loss='categorical_crossentropy',\n",
    "              optimizer='Adam',\n",
    "              metrics=['accuracy'])\n",
    "\n"
   ]
  },
  {
   "cell_type": "code",
   "execution_count": 22,
   "metadata": {
    "collapsed": false
   },
   "outputs": [
    {
     "name": "stdout",
     "output_type": "stream",
     "text": [
      "Train on 50000 samples, validate on 10000 samples\n",
      "Epoch 1/20\n",
      "50000/50000 [==============================] - 103s - loss: 1.4343 - acc: 0.4811 - val_loss: 1.1989 - val_acc: 0.5652\n",
      "Epoch 2/20\n",
      "50000/50000 [==============================] - 112s - loss: 1.0496 - acc: 0.6276 - val_loss: 0.9797 - val_acc: 0.6542\n",
      "Epoch 3/20\n",
      "50000/50000 [==============================] - 115s - loss: 0.8974 - acc: 0.6826 - val_loss: 0.9098 - val_acc: 0.6854\n",
      "Epoch 4/20\n",
      "50000/50000 [==============================] - 115s - loss: 0.7888 - acc: 0.7204 - val_loss: 0.8467 - val_acc: 0.7062\n",
      "Epoch 5/20\n",
      "50000/50000 [==============================] - 114s - loss: 0.7022 - acc: 0.7533 - val_loss: 0.8009 - val_acc: 0.7234\n",
      "Epoch 6/20\n",
      "50000/50000 [==============================] - 115s - loss: 0.6232 - acc: 0.7821 - val_loss: 0.8616 - val_acc: 0.7104\n",
      "Epoch 7/20\n",
      "50000/50000 [==============================] - 115s - loss: 0.5512 - acc: 0.8052 - val_loss: 0.8850 - val_acc: 0.7130\n",
      "Epoch 8/20\n",
      "50000/50000 [==============================] - 114s - loss: 0.4812 - acc: 0.8303 - val_loss: 0.9078 - val_acc: 0.7149\n",
      "Epoch 9/20\n",
      "50000/50000 [==============================] - 114s - loss: 0.4203 - acc: 0.8515 - val_loss: 0.9653 - val_acc: 0.7107\n",
      "Epoch 10/20\n",
      "50000/50000 [==============================] - 113s - loss: 0.3659 - acc: 0.8696 - val_loss: 0.9620 - val_acc: 0.7220\n",
      "Epoch 11/20\n",
      "50000/50000 [==============================] - 113s - loss: 0.3075 - acc: 0.8916 - val_loss: 1.0699 - val_acc: 0.7264\n",
      "Epoch 12/20\n",
      "50000/50000 [==============================] - 112s - loss: 0.2647 - acc: 0.9057 - val_loss: 1.1801 - val_acc: 0.7076\n",
      "Epoch 13/20\n",
      "50000/50000 [==============================] - 112s - loss: 0.2288 - acc: 0.9175 - val_loss: 1.1752 - val_acc: 0.7262\n",
      "Epoch 14/20\n",
      "50000/50000 [==============================] - 112s - loss: 0.1965 - acc: 0.9299 - val_loss: 1.2805 - val_acc: 0.7175\n",
      "Epoch 15/20\n",
      "50000/50000 [==============================] - 112s - loss: 0.1858 - acc: 0.9333 - val_loss: 1.3803 - val_acc: 0.7197\n",
      "Epoch 16/20\n",
      "50000/50000 [==============================] - 111s - loss: 0.1662 - acc: 0.9402 - val_loss: 1.4561 - val_acc: 0.7115\n",
      "Epoch 17/20\n",
      "50000/50000 [==============================] - 113s - loss: 0.1447 - acc: 0.9482 - val_loss: 1.5374 - val_acc: 0.7123\n",
      "Epoch 18/20\n",
      "50000/50000 [==============================] - 111s - loss: 0.1425 - acc: 0.9494 - val_loss: 1.6706 - val_acc: 0.7079\n",
      "Epoch 19/20\n",
      "50000/50000 [==============================] - 111s - loss: 0.1297 - acc: 0.9547 - val_loss: 1.7160 - val_acc: 0.7120\n",
      "Epoch 20/20\n",
      "50000/50000 [==============================] - 111s - loss: 0.1303 - acc: 0.9549 - val_loss: 1.7345 - val_acc: 0.7095\n"
     ]
    }
   ],
   "source": [
    "res3 = model3.fit(X_train,y_train,\n",
    "              batch_size=batch_size,\n",
    "              nb_epoch=nb_epoch,\n",
    "              validation_data=(X_test, y_test),\n",
    "              shuffle=True)"
   ]
  },
  {
   "cell_type": "code",
   "execution_count": null,
   "metadata": {
    "collapsed": false
   },
   "outputs": [],
   "source": [
    "x=range(nb_epoch)\n",
    "plt.plot(x,res3.history['acc'],label='Training')\n",
    "plt.plot(x,res3.history['val_acc'],label='Test')\n",
    "plt.xlabel('Number of Epochs')\n",
    "plt.ylabel('Accuracy Score')\n",
    "plt.legend(loc='best')\n"
   ]
  },
  {
   "cell_type": "code",
   "execution_count": null,
   "metadata": {
    "collapsed": true
   },
   "outputs": [],
   "source": [
    "SVG(model_to_dot(model3, show_shapes=True).create(prog='dot', format='svg'))"
   ]
  },
  {
   "cell_type": "code",
   "execution_count": null,
   "metadata": {
    "collapsed": false
   },
   "outputs": [],
   "source": [
    "from keras.utils.visualize_util import plot\n",
    "plot(model, to_file='model.png')"
   ]
  },
  {
   "cell_type": "code",
   "execution_count": null,
   "metadata": {
    "collapsed": false
   },
   "outputs": [],
   "source": [
    "from IPython.display import SVG\n",
    "from keras.utils.visualize_util import model_to_dot\n",
    "\n",
    "SVG(model_to_dot(model).create(prog='dot', format='svg'))"
   ]
  },
  {
   "cell_type": "markdown",
   "metadata": {
    "collapsed": true
   },
   "source": [
    "# Model 4 (4 Convolutional layers and 2 Fully connected layers)"
   ]
  },
  {
   "cell_type": "code",
   "execution_count": null,
   "metadata": {
    "collapsed": false
   },
   "outputs": [],
   "source": [
    "model4 = Sequential()\n",
    "model4.add(Convolution2D(32,3,3,border_mode='same',input_shape=(3,32,32)))\n",
    "model4.add(Activation('relu'))\n",
    "model4.add(MaxPooling2D(pool_size=(2,2)))\n",
    "\n",
    "model4.add(Convolution2D(32,3,3,border_mode='same'))\n",
    "model4.add(Activation('relu'))\n",
    "model4.add(MaxPooling2D(pool_size=(2,2)))\n",
    "\n",
    "model4.add(Convolution2D(32,3,3,border_mode='same'))\n",
    "model4.add(Activation('relu'))\n",
    "model4.add(MaxPooling2D(pool_size=(2,2)))\n",
    "\n",
    "model4.add(Convolution2D(32,3,3,border_mode='same'))\n",
    "model4.add(Activation('relu'))\n",
    "model4.add(MaxPooling2D(pool_size=(2,2)))\n",
    "\n",
    "#model4.add(Convolution2D(32,3,3,border_mode='same'))\n",
    "#model4.add(Activation('relu'))\n",
    "#model4.add(MaxPooling2D(pool_size=(2,2)))\n",
    "\n",
    "model4.add(Flatten())\n",
    "model4.add(Dense(output_dim=512,input_dim=7200,activation='relu'))\n",
    "model4.add(Dense(output_dim=10,input_dim=512))\n",
    "model4.add(Activation('softmax'))\n",
    "\n",
    "#sgd = SGD(lr=0.01, decay=1e-6, momentum=0.9, nesterov=True)\n",
    "model4.compile(loss='categorical_crossentropy',\n",
    "              optimizer='Adam',\n",
    "              metrics=['accuracy'])\n",
    "\n"
   ]
  },
  {
   "cell_type": "code",
   "execution_count": null,
   "metadata": {
    "collapsed": false
   },
   "outputs": [],
   "source": [
    "res4 = model4.fit(X_train,y_train,\n",
    "              batch_size=batch_size,\n",
    "              nb_epoch=nb_epoch,\n",
    "              validation_data=(X_test, y_test),\n",
    "              shuffle=True)"
   ]
  },
  {
   "cell_type": "code",
   "execution_count": null,
   "metadata": {
    "collapsed": false,
    "scrolled": true
   },
   "outputs": [],
   "source": [
    "SVG(model_to_dot(model4).create(prog='dot', format='svg'))"
   ]
  },
  {
   "cell_type": "code",
   "execution_count": null,
   "metadata": {
    "collapsed": false
   },
   "outputs": [],
   "source": [
    "x=range(nb_epoch)\n",
    "plt.plot(x,res4.history['acc'],label='Training')\n",
    "plt.plot(x,res4.history['val_acc'],label='Test')\n",
    "plt.xlabel('Number of Epochs')\n",
    "plt.ylabel('Accuracy Score')\n",
    "plt.legend(loc='best')\n"
   ]
  },
  {
   "cell_type": "code",
   "execution_count": null,
   "metadata": {
    "collapsed": true
   },
   "outputs": [],
   "source": []
  }
 ],
 "metadata": {
  "hide_input": false,
  "kernelspec": {
   "display_name": "Python 2",
   "language": "python",
   "name": "python2"
  },
  "language_info": {
   "codemirror_mode": {
    "name": "ipython",
    "version": 2
   },
   "file_extension": ".py",
   "mimetype": "text/x-python",
   "name": "python",
   "nbconvert_exporter": "python",
   "pygments_lexer": "ipython2",
   "version": "2.7.12"
  },
  "latex_envs": {
   "bibliofile": "biblio.bib",
   "cite_by": "key",
   "current_citInitial": 1,
   "eqLabelWithNumbers": false,
   "eqNumInitial": 0
  },
  "nav_menu": {},
  "toc": {
   "navigate_menu": true,
   "number_sections": true,
   "sideBar": true,
   "threshold": 6,
   "toc_cell": false,
   "toc_section_display": "block",
   "toc_window_display": false
  }
 },
 "nbformat": 4,
 "nbformat_minor": 0
}
