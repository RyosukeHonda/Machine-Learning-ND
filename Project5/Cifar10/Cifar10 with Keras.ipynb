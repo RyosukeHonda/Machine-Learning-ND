{
 "cells": [
  {
   "cell_type": "code",
   "execution_count": 1,
   "metadata": {
    "collapsed": false
   },
   "outputs": [
    {
     "name": "stderr",
     "output_type": "stream",
     "text": [
      "/Users/Ryosuke/anaconda/lib/python2.7/site-packages/matplotlib/font_manager.py:273: UserWarning: Matplotlib is building the font cache using fc-list. This may take a moment.\n",
      "  warnings.warn('Matplotlib is building the font cache using fc-list. This may take a moment.')\n",
      "/Users/Ryosuke/anaconda/lib/python2.7/site-packages/matplotlib/__init__.py:872: UserWarning: axes.color_cycle is deprecated and replaced with axes.prop_cycle; please use the latter.\n",
      "  warnings.warn(self.msg_depr % (key, alt_key))\n"
     ]
    }
   ],
   "source": [
    "import numpy as np\n",
    "import matplotlib.pyplot as plt\n",
    "import seaborn as sns\n",
    "import pandas as pd\n",
    "import cPickle"
   ]
  },
  {
   "cell_type": "code",
   "execution_count": 2,
   "metadata": {
    "collapsed": true
   },
   "outputs": [],
   "source": [
    "def unpickle(f):\n",
    "    fo = open(f,'rb')\n",
    "    d = cPickle.load(fo)\n",
    "    fo.close()\n",
    "    return d"
   ]
  },
  {
   "cell_type": "code",
   "execution_count": 12,
   "metadata": {
    "collapsed": true
   },
   "outputs": [],
   "source": [
    "def load_cifar10(dir):\n",
    "    train_data=[]\n",
    "    train_target=[]\n",
    "    \n",
    "    for i in range(1,6):\n",
    "        d = unpickle('%s/data_batch_%d' %(dir,i))\n",
    "        train_data.extend(d['data'])\n",
    "        train_target.extend(d['labels'])\n",
    "        \n",
    "    d = unpickle('%s/test_batch' %(dir))\n",
    "    test_data = d['data']\n",
    "    test_target = d['labels']\n",
    "    \n",
    "    train_data = np.array(train_data,dtype=np.float32)\n",
    "    train_target = np.array(train_target,dtype=np.int32)\n",
    "    test_data = np.array(test_data,dtype=np.float32)\n",
    "    test_target = np.array(test_target,dtype=np.int32)\n",
    "    \n",
    "    train_data /=255.0\n",
    "    test_data /=255.0\n",
    "    \n",
    "    return train_data,test_data,train_target,test_target"
   ]
  },
  {
   "cell_type": "code",
   "execution_count": 13,
   "metadata": {
    "collapsed": false
   },
   "outputs": [],
   "source": [
    "X_train,X_test,y_train,y_test = load_cifar10(\"cifar-10-batches-py\")"
   ]
  },
  {
   "cell_type": "code",
   "execution_count": 14,
   "metadata": {
    "collapsed": false
   },
   "outputs": [],
   "source": [
    "X_train = X_train.reshape((len(X_train),3,32,32))\n",
    "X_test = X_test.reshape((len(X_test),3,32,32))"
   ]
  },
  {
   "cell_type": "code",
   "execution_count": 16,
   "metadata": {
    "collapsed": false
   },
   "outputs": [
    {
     "name": "stdout",
     "output_type": "stream",
     "text": [
      "Couldn't import dot_parser, loading of dot files will not be possible.\n"
     ]
    },
    {
     "name": "stderr",
     "output_type": "stream",
     "text": [
      "Using Theano backend.\n"
     ]
    }
   ],
   "source": [
    "from keras.utils import np_utils\n",
    "nb_classes =10\n",
    "y_train = np_utils.to_categorical(y_train, nb_classes)\n",
    "y_test = np_utils.to_categorical(y_test, nb_classes)"
   ]
  },
  {
   "cell_type": "code",
   "execution_count": 17,
   "metadata": {
    "collapsed": false
   },
   "outputs": [
    {
     "data": {
      "text/plain": [
       "array([[ 0.,  0.,  0., ...,  0.,  0.,  0.],\n",
       "       [ 0.,  0.,  0., ...,  0.,  1.,  0.],\n",
       "       [ 0.,  0.,  0., ...,  0.,  1.,  0.],\n",
       "       ..., \n",
       "       [ 0.,  0.,  0., ...,  0.,  0.,  0.],\n",
       "       [ 0.,  1.,  0., ...,  0.,  0.,  0.],\n",
       "       [ 0.,  0.,  0., ...,  1.,  0.,  0.]])"
      ]
     },
     "execution_count": 17,
     "metadata": {},
     "output_type": "execute_result"
    }
   ],
   "source": [
    "y_test\n",
    "#y_train"
   ]
  },
  {
   "cell_type": "code",
   "execution_count": 31,
   "metadata": {
    "collapsed": false
   },
   "outputs": [],
   "source": [
    "from keras.models import Sequential\n",
    "from keras.layers import Dense,Activation,MaxPooling2D,Flatten\n",
    "from keras.layers import Convolution2D\n",
    "from keras.utils import np_utils\n",
    "from keras.optimizers import SGD,Adam"
   ]
  },
  {
   "cell_type": "code",
   "execution_count": 13,
   "metadata": {
    "collapsed": false
   },
   "outputs": [
    {
     "name": "stderr",
     "output_type": "stream",
     "text": [
      "WARNING (theano.gof.compilelock): Overriding existing lock by dead process '15805' (I am process '16102')\n",
      "WARNING:theano.gof.compilelock:Overriding existing lock by dead process '15805' (I am process '16102')\n"
     ]
    },
    {
     "name": "stdout",
     "output_type": "stream",
     "text": [
      "Train on 50000 samples, validate on 10000 samples\n",
      "Epoch 1/20\n",
      "50000/50000 [==============================] - 97s - loss: 1.4789 - acc: 0.4707 - val_loss: 1.2429 - val_acc: 0.5592\n",
      "Epoch 2/20\n",
      "50000/50000 [==============================] - 99s - loss: 1.1284 - acc: 0.6043 - val_loss: 1.1451 - val_acc: 0.5993\n",
      "Epoch 3/20\n",
      "50000/50000 [==============================] - 97s - loss: 0.9393 - acc: 0.6696 - val_loss: 1.0404 - val_acc: 0.6397\n",
      "Epoch 4/20\n",
      "50000/50000 [==============================] - 97s - loss: 0.7691 - acc: 0.7282 - val_loss: 1.0752 - val_acc: 0.6366\n",
      "Epoch 5/20\n",
      "50000/50000 [==============================] - 97s - loss: 0.6017 - acc: 0.7879 - val_loss: 1.0942 - val_acc: 0.6513\n",
      "Epoch 6/20\n",
      "50000/50000 [==============================] - 97s - loss: 0.4411 - acc: 0.8464 - val_loss: 1.1612 - val_acc: 0.6528\n",
      "Epoch 7/20\n",
      "50000/50000 [==============================] - 97s - loss: 0.3061 - acc: 0.8947 - val_loss: 1.2746 - val_acc: 0.6526\n",
      "Epoch 8/20\n",
      "50000/50000 [==============================] - 97s - loss: 0.2003 - acc: 0.9335 - val_loss: 1.5142 - val_acc: 0.6498\n",
      "Epoch 9/20\n",
      "50000/50000 [==============================] - 97s - loss: 0.1362 - acc: 0.9554 - val_loss: 1.5213 - val_acc: 0.6613\n",
      "Epoch 10/20\n",
      "50000/50000 [==============================] - 97s - loss: 0.1112 - acc: 0.9642 - val_loss: 1.6786 - val_acc: 0.6598\n",
      "Epoch 11/20\n",
      "50000/50000 [==============================] - 99s - loss: 0.0764 - acc: 0.9769 - val_loss: 1.7607 - val_acc: 0.6641\n",
      "Epoch 12/20\n",
      "50000/50000 [==============================] - 99s - loss: 0.0648 - acc: 0.9796 - val_loss: 1.8727 - val_acc: 0.6612\n",
      "Epoch 13/20\n",
      "50000/50000 [==============================] - 100s - loss: 0.0595 - acc: 0.9825 - val_loss: 2.0115 - val_acc: 0.6574\n",
      "Epoch 14/20\n",
      "50000/50000 [==============================] - 100s - loss: 0.0593 - acc: 0.9821 - val_loss: 2.0180 - val_acc: 0.6568\n",
      "Epoch 15/20\n",
      "50000/50000 [==============================] - 100s - loss: 0.0480 - acc: 0.9853 - val_loss: 2.0129 - val_acc: 0.6683\n",
      "Epoch 16/20\n",
      "50000/50000 [==============================] - 100s - loss: 0.0270 - acc: 0.9921 - val_loss: 2.1424 - val_acc: 0.6685\n",
      "Epoch 17/20\n",
      "50000/50000 [==============================] - 100s - loss: 0.0108 - acc: 0.9976 - val_loss: 2.1677 - val_acc: 0.6709\n",
      "Epoch 18/20\n",
      "50000/50000 [==============================] - 100s - loss: 0.0040 - acc: 0.9994 - val_loss: 2.1522 - val_acc: 0.6773\n",
      "Epoch 19/20\n",
      "50000/50000 [==============================] - 100s - loss: 0.0022 - acc: 0.9996 - val_loss: 2.1535 - val_acc: 0.6832\n",
      "Epoch 20/20\n",
      "50000/50000 [==============================] - 100s - loss: 0.0012 - acc: 0.9999 - val_loss: 2.1756 - val_acc: 0.6838\n"
     ]
    },
    {
     "data": {
      "text/plain": [
       "<keras.callbacks.History at 0x111abf4d0>"
      ]
     },
     "execution_count": 13,
     "metadata": {},
     "output_type": "execute_result"
    }
   ],
   "source": [
    "batch_size = 32\n",
    "nb_classes = 10\n",
    "nb_epoch = 20\n",
    "\n",
    "model = Sequential()\n",
    "model.add(Convolution2D(32,3,3,border_mode='same',input_shape=(3,32,32)))\n",
    "model.add(Activation('relu'))\n",
    "model.add(MaxPooling2D(pool_size=(2,2)))\n",
    "model.add(Flatten())\n",
    "model.add(Dense(output_dim=512,input_dim=7200,activation='relu'))\n",
    "model.add(Dense(output_dim=10,input_dim=512))\n",
    "model.add(Activation('softmax'))\n",
    "\n",
    "sgd = SGD(lr=0.01, decay=1e-6, momentum=0.9, nesterov=True)\n",
    "model.compile(loss='categorical_crossentropy',\n",
    "              optimizer=sgd,\n",
    "              metrics=['accuracy'])\n",
    "\n",
    "model.fit(X_train,y_train,\n",
    "              batch_size=batch_size,\n",
    "              nb_epoch=nb_epoch,\n",
    "              validation_data=(X_test, y_test),\n",
    "              shuffle=True)"
   ]
  },
  {
   "cell_type": "code",
   "execution_count": 16,
   "metadata": {
    "collapsed": false
   },
   "outputs": [
    {
     "name": "stdout",
     "output_type": "stream",
     "text": [
      "Epoch 1/20\n",
      "50000/50000 [==============================] - 109s - loss: 1.2809 - acc: 0.5903 - val_loss: 1.0383 - val_acc: 0.6454\n",
      "Epoch 2/20\n",
      "50000/50000 [==============================] - 112s - loss: 1.0463 - acc: 0.6423 - val_loss: 0.9765 - val_acc: 0.6671\n",
      "Epoch 3/20\n",
      "50000/50000 [==============================] - 107s - loss: 0.9769 - acc: 0.6624 - val_loss: 0.9561 - val_acc: 0.6689\n",
      "Epoch 4/20\n",
      "50000/50000 [==============================] - 110s - loss: 0.9234 - acc: 0.6823 - val_loss: 0.9131 - val_acc: 0.6891\n",
      "Epoch 5/20\n",
      "50000/50000 [==============================] - 108s - loss: 0.8927 - acc: 0.6923 - val_loss: 0.8941 - val_acc: 0.6953\n",
      "Epoch 6/20\n",
      "50000/50000 [==============================] - 109s - loss: 0.8622 - acc: 0.7016 - val_loss: 0.9024 - val_acc: 0.6966\n",
      "Epoch 7/20\n",
      "50000/50000 [==============================] - 109s - loss: 0.8361 - acc: 0.7115 - val_loss: 0.8954 - val_acc: 0.6880\n",
      "Epoch 8/20\n",
      "50000/50000 [==============================] - 111s - loss: 0.8171 - acc: 0.7164 - val_loss: 0.8737 - val_acc: 0.7018\n",
      "Epoch 9/20\n",
      "50000/50000 [==============================] - 107s - loss: 0.7981 - acc: 0.7258 - val_loss: 0.8580 - val_acc: 0.7044\n",
      "Epoch 10/20\n",
      "50000/50000 [==============================] - 107s - loss: 0.7796 - acc: 0.7276 - val_loss: 0.8448 - val_acc: 0.7174\n",
      "Epoch 11/20\n",
      "50000/50000 [==============================] - 108s - loss: 0.7612 - acc: 0.7345 - val_loss: 0.8657 - val_acc: 0.7111\n",
      "Epoch 12/20\n",
      "50000/50000 [==============================] - 110s - loss: 0.7509 - acc: 0.7411 - val_loss: 0.8514 - val_acc: 0.7120\n",
      "Epoch 13/20\n",
      "50000/50000 [==============================] - 108s - loss: 0.7335 - acc: 0.7458 - val_loss: 0.8445 - val_acc: 0.7213\n",
      "Epoch 14/20\n",
      "50000/50000 [==============================] - 109s - loss: 0.7275 - acc: 0.7474 - val_loss: 0.8621 - val_acc: 0.7061\n",
      "Epoch 15/20\n",
      "50000/50000 [==============================] - 109s - loss: 0.7194 - acc: 0.7528 - val_loss: 0.8216 - val_acc: 0.7249\n",
      "Epoch 16/20\n",
      "50000/50000 [==============================] - 109s - loss: 0.7020 - acc: 0.7552 - val_loss: 0.8161 - val_acc: 0.7279\n",
      "Epoch 17/20\n",
      "50000/50000 [==============================] - 107s - loss: 0.6850 - acc: 0.7622 - val_loss: 0.8369 - val_acc: 0.7259\n",
      "Epoch 18/20\n",
      "50000/50000 [==============================] - 105s - loss: 0.6797 - acc: 0.7640 - val_loss: 0.8145 - val_acc: 0.7286\n",
      "Epoch 19/20\n",
      "50000/50000 [==============================] - 106s - loss: 0.6721 - acc: 0.7680 - val_loss: 0.8030 - val_acc: 0.7346\n",
      "Epoch 20/20\n",
      "50000/50000 [==============================] - 105s - loss: 0.6591 - acc: 0.7704 - val_loss: 0.8160 - val_acc: 0.7334\n"
     ]
    },
    {
     "data": {
      "text/plain": [
       "<keras.callbacks.History at 0x111af8210>"
      ]
     },
     "execution_count": 16,
     "metadata": {},
     "output_type": "execute_result"
    }
   ],
   "source": [
    "\n",
    "from keras.preprocessing.image import ImageDataGenerator\n",
    "datagen = ImageDataGenerator(\n",
    "        featurewise_center=False,  # set input mean to 0 over the dataset\n",
    "        samplewise_center=False,  # set each sample mean to 0\n",
    "        featurewise_std_normalization=False,  # divide inputs by std of the dataset\n",
    "        samplewise_std_normalization=False,  # divide each input by its std\n",
    "        zca_whitening=False,  # apply ZCA whitening\n",
    "        rotation_range=0,  # randomly rotate images in the range (degrees, 0 to 180)\n",
    "        width_shift_range=0.1,  # randomly shift images horizontally (fraction of total width)\n",
    "        height_shift_range=0.1,  # randomly shift images vertically (fraction of total height)\n",
    "        horizontal_flip=True,  # randomly flip images\n",
    "        vertical_flip=False)  # randomly flip images\n",
    "\n",
    "    # compute quantities required for featurewise normalization\n",
    "    # (std, mean, and principal components if ZCA whitening is applied)\n",
    "datagen.fit(X_train)\n",
    "\n",
    "    # fit the model on the batches generated by datagen.flow()\n",
    "model.fit_generator(datagen.flow(X_train, y_train,\n",
    "                        batch_size=batch_size),\n",
    "                        samples_per_epoch=X_train.shape[0],\n",
    "                        nb_epoch=nb_epoch,\n",
    "                        validation_data=(X_test, y_test))"
   ]
  },
  {
   "cell_type": "code",
   "execution_count": 28,
   "metadata": {
    "collapsed": false
   },
   "outputs": [],
   "source": [
    "from keras.utils.visualize_util import plot\n",
    "plot(model, to_file='model.png')"
   ]
  },
  {
   "cell_type": "code",
   "execution_count": 29,
   "metadata": {
    "collapsed": false
   },
   "outputs": [
    {
     "data": {
      "image/svg+xml": [
       "<svg height=\"556pt\" viewBox=\"0.00 0.00 229.68 556.00\" width=\"230pt\" xmlns=\"http://www.w3.org/2000/svg\" xmlns:xlink=\"http://www.w3.org/1999/xlink\">\n",
       "<g class=\"graph\" id=\"graph0\" transform=\"scale(1 1) rotate(0) translate(4 552)\">\n",
       "<title>G</title>\n",
       "<polygon fill=\"white\" points=\"-4,4 -4,-552 225.68,-552 225.68,4 -4,4\" stroke=\"transparent\"/>\n",
       "<!-- 4503833168 -->\n",
       "<g class=\"node\" id=\"node1\">\n",
       "<title>4503833168</title>\n",
       "<polygon fill=\"none\" points=\"0,-511.5 0,-547.5 221.68,-547.5 221.68,-511.5 0,-511.5\" stroke=\"black\"/>\n",
       "<text font-family=\"Times,serif\" font-size=\"14.00\" text-anchor=\"middle\" x=\"110.84\" y=\"-525.3\">convolution2d_input_1 (InputLayer)</text>\n",
       "</g>\n",
       "<!-- 4583827152 -->\n",
       "<g class=\"node\" id=\"node2\">\n",
       "<title>4583827152</title>\n",
       "<polygon fill=\"none\" points=\"5.42773,-438.5 5.42773,-474.5 216.252,-474.5 216.252,-438.5 5.42773,-438.5\" stroke=\"black\"/>\n",
       "<text font-family=\"Times,serif\" font-size=\"14.00\" text-anchor=\"middle\" x=\"110.84\" y=\"-452.3\">convolution2d_1 (Convolution2D)</text>\n",
       "</g>\n",
       "<!-- 4503833168&#45;&gt;4583827152 -->\n",
       "<g class=\"edge\" id=\"edge1\">\n",
       "<title>4503833168-&gt;4583827152</title>\n",
       "<path d=\"M110.84,-511.455C110.84,-503.383 110.84,-493.676 110.84,-484.682\" fill=\"none\" stroke=\"black\"/>\n",
       "<polygon fill=\"black\" points=\"114.34,-484.59 110.84,-474.59 107.34,-484.59 114.34,-484.59\" stroke=\"black\"/>\n",
       "</g>\n",
       "<!-- 4503832976 -->\n",
       "<g class=\"node\" id=\"node3\">\n",
       "<title>4503832976</title>\n",
       "<polygon fill=\"none\" points=\"32.2793,-365.5 32.2793,-401.5 189.4,-401.5 189.4,-365.5 32.2793,-365.5\" stroke=\"black\"/>\n",
       "<text font-family=\"Times,serif\" font-size=\"14.00\" text-anchor=\"middle\" x=\"110.84\" y=\"-379.3\">activation_1 (Activation)</text>\n",
       "</g>\n",
       "<!-- 4583827152&#45;&gt;4503832976 -->\n",
       "<g class=\"edge\" id=\"edge2\">\n",
       "<title>4583827152-&gt;4503832976</title>\n",
       "<path d=\"M110.84,-438.455C110.84,-430.383 110.84,-420.676 110.84,-411.682\" fill=\"none\" stroke=\"black\"/>\n",
       "<polygon fill=\"black\" points=\"114.34,-411.59 110.84,-401.59 107.34,-411.59 114.34,-411.59\" stroke=\"black\"/>\n",
       "</g>\n",
       "<!-- 4509223120 -->\n",
       "<g class=\"node\" id=\"node4\">\n",
       "<title>4509223120</title>\n",
       "<polygon fill=\"none\" points=\"5.81738,-292.5 5.81738,-328.5 215.862,-328.5 215.862,-292.5 5.81738,-292.5\" stroke=\"black\"/>\n",
       "<text font-family=\"Times,serif\" font-size=\"14.00\" text-anchor=\"middle\" x=\"110.84\" y=\"-306.3\">maxpooling2d_1 (MaxPooling2D)</text>\n",
       "</g>\n",
       "<!-- 4503832976&#45;&gt;4509223120 -->\n",
       "<g class=\"edge\" id=\"edge3\">\n",
       "<title>4503832976-&gt;4509223120</title>\n",
       "<path d=\"M110.84,-365.455C110.84,-357.383 110.84,-347.676 110.84,-338.682\" fill=\"none\" stroke=\"black\"/>\n",
       "<polygon fill=\"black\" points=\"114.34,-338.59 110.84,-328.59 107.34,-338.59 114.34,-338.59\" stroke=\"black\"/>\n",
       "</g>\n",
       "<!-- 4509223056 -->\n",
       "<g class=\"node\" id=\"node5\">\n",
       "<title>4509223056</title>\n",
       "<polygon fill=\"none\" points=\"52.4897,-219.5 52.4897,-255.5 169.19,-255.5 169.19,-219.5 52.4897,-219.5\" stroke=\"black\"/>\n",
       "<text font-family=\"Times,serif\" font-size=\"14.00\" text-anchor=\"middle\" x=\"110.84\" y=\"-233.3\">flatten_1 (Flatten)</text>\n",
       "</g>\n",
       "<!-- 4509223120&#45;&gt;4509223056 -->\n",
       "<g class=\"edge\" id=\"edge4\">\n",
       "<title>4509223120-&gt;4509223056</title>\n",
       "<path d=\"M110.84,-292.455C110.84,-284.383 110.84,-274.676 110.84,-265.682\" fill=\"none\" stroke=\"black\"/>\n",
       "<polygon fill=\"black\" points=\"114.34,-265.59 110.84,-255.59 107.34,-265.59 114.34,-265.59\" stroke=\"black\"/>\n",
       "</g>\n",
       "<!-- 4515039376 -->\n",
       "<g class=\"node\" id=\"node6\">\n",
       "<title>4515039376</title>\n",
       "<polygon fill=\"none\" points=\"55.9966,-146.5 55.9966,-182.5 165.683,-182.5 165.683,-146.5 55.9966,-146.5\" stroke=\"black\"/>\n",
       "<text font-family=\"Times,serif\" font-size=\"14.00\" text-anchor=\"middle\" x=\"110.84\" y=\"-160.3\">dense_1 (Dense)</text>\n",
       "</g>\n",
       "<!-- 4509223056&#45;&gt;4515039376 -->\n",
       "<g class=\"edge\" id=\"edge5\">\n",
       "<title>4509223056-&gt;4515039376</title>\n",
       "<path d=\"M110.84,-219.455C110.84,-211.383 110.84,-201.676 110.84,-192.682\" fill=\"none\" stroke=\"black\"/>\n",
       "<polygon fill=\"black\" points=\"114.34,-192.59 110.84,-182.59 107.34,-192.59 114.34,-192.59\" stroke=\"black\"/>\n",
       "</g>\n",
       "<!-- 4509465616 -->\n",
       "<g class=\"node\" id=\"node7\">\n",
       "<title>4509465616</title>\n",
       "<polygon fill=\"none\" points=\"55.9966,-73.5 55.9966,-109.5 165.683,-109.5 165.683,-73.5 55.9966,-73.5\" stroke=\"black\"/>\n",
       "<text font-family=\"Times,serif\" font-size=\"14.00\" text-anchor=\"middle\" x=\"110.84\" y=\"-87.3\">dense_2 (Dense)</text>\n",
       "</g>\n",
       "<!-- 4515039376&#45;&gt;4509465616 -->\n",
       "<g class=\"edge\" id=\"edge6\">\n",
       "<title>4515039376-&gt;4509465616</title>\n",
       "<path d=\"M110.84,-146.455C110.84,-138.383 110.84,-128.676 110.84,-119.682\" fill=\"none\" stroke=\"black\"/>\n",
       "<polygon fill=\"black\" points=\"114.34,-119.59 110.84,-109.59 107.34,-119.59 114.34,-119.59\" stroke=\"black\"/>\n",
       "</g>\n",
       "<!-- 4515884560 -->\n",
       "<g class=\"node\" id=\"node8\">\n",
       "<title>4515884560</title>\n",
       "<polygon fill=\"none\" points=\"32.2793,-0.5 32.2793,-36.5 189.4,-36.5 189.4,-0.5 32.2793,-0.5\" stroke=\"black\"/>\n",
       "<text font-family=\"Times,serif\" font-size=\"14.00\" text-anchor=\"middle\" x=\"110.84\" y=\"-14.3\">activation_2 (Activation)</text>\n",
       "</g>\n",
       "<!-- 4509465616&#45;&gt;4515884560 -->\n",
       "<g class=\"edge\" id=\"edge7\">\n",
       "<title>4509465616-&gt;4515884560</title>\n",
       "<path d=\"M110.84,-73.4551C110.84,-65.3828 110.84,-55.6764 110.84,-46.6817\" fill=\"none\" stroke=\"black\"/>\n",
       "<polygon fill=\"black\" points=\"114.34,-46.5903 110.84,-36.5904 107.34,-46.5904 114.34,-46.5903\" stroke=\"black\"/>\n",
       "</g>\n",
       "</g>\n",
       "</svg>"
      ],
      "text/plain": [
       "<IPython.core.display.SVG object>"
      ]
     },
     "execution_count": 29,
     "metadata": {},
     "output_type": "execute_result"
    }
   ],
   "source": [
    "from IPython.display import SVG\n",
    "from keras.utils.visualize_util import model_to_dot\n",
    "\n",
    "SVG(model_to_dot(model).create(prog='dot', format='svg'))"
   ]
  },
  {
   "cell_type": "code",
   "execution_count": null,
   "metadata": {
    "collapsed": true
   },
   "outputs": [],
   "source": []
  },
  {
   "cell_type": "code",
   "execution_count": 33,
   "metadata": {
    "collapsed": false
   },
   "outputs": [
    {
     "name": "stdout",
     "output_type": "stream",
     "text": [
      "Train on 50000 samples, validate on 10000 samples\n",
      "Epoch 1/20\n",
      "50000/50000 [==============================] - 105s - loss: 1.5932 - acc: 0.4097 - val_loss: 1.3395 - val_acc: 0.5020\n",
      "Epoch 2/20\n",
      "50000/50000 [==============================] - 105s - loss: 1.2088 - acc: 0.5596 - val_loss: 1.1580 - val_acc: 0.5870\n",
      "Epoch 3/20\n",
      "50000/50000 [==============================] - 104s - loss: 1.0656 - acc: 0.6163 - val_loss: 1.0398 - val_acc: 0.6268\n",
      "Epoch 4/20\n",
      "50000/50000 [==============================] - 105s - loss: 0.9622 - acc: 0.6581 - val_loss: 0.9713 - val_acc: 0.6564\n",
      "Epoch 5/20\n",
      "50000/50000 [==============================] - 105s - loss: 0.8947 - acc: 0.6823 - val_loss: 0.9932 - val_acc: 0.6492\n",
      "Epoch 6/20\n",
      "50000/50000 [==============================] - 105s - loss: 0.8443 - acc: 0.7040 - val_loss: 1.1035 - val_acc: 0.6300\n",
      "Epoch 7/20\n",
      "50000/50000 [==============================] - 105s - loss: 0.8008 - acc: 0.7193 - val_loss: 0.8889 - val_acc: 0.6866\n",
      "Epoch 8/20\n",
      "50000/50000 [==============================] - 104s - loss: 0.7635 - acc: 0.7312 - val_loss: 0.9174 - val_acc: 0.6857\n",
      "Epoch 9/20\n",
      "50000/50000 [==============================] - 106s - loss: 0.7361 - acc: 0.7405 - val_loss: 0.8897 - val_acc: 0.6946\n",
      "Epoch 10/20\n",
      "50000/50000 [==============================] - 105s - loss: 0.7059 - acc: 0.7495 - val_loss: 0.8735 - val_acc: 0.6998\n",
      "Epoch 11/20\n",
      "50000/50000 [==============================] - 106s - loss: 0.6814 - acc: 0.7592 - val_loss: 0.8449 - val_acc: 0.7161\n",
      "Epoch 12/20\n",
      "50000/50000 [==============================] - 105s - loss: 0.6604 - acc: 0.7673 - val_loss: 0.9041 - val_acc: 0.6998\n",
      "Epoch 13/20\n",
      "50000/50000 [==============================] - 105s - loss: 0.6412 - acc: 0.7743 - val_loss: 0.8705 - val_acc: 0.7031\n",
      "Epoch 14/20\n",
      "50000/50000 [==============================] - 105s - loss: 0.6160 - acc: 0.7828 - val_loss: 0.8876 - val_acc: 0.7052\n",
      "Epoch 15/20\n",
      "50000/50000 [==============================] - 105s - loss: 0.6042 - acc: 0.7888 - val_loss: 0.8464 - val_acc: 0.7200\n",
      "Epoch 16/20\n",
      "50000/50000 [==============================] - 105s - loss: 0.5898 - acc: 0.7900 - val_loss: 0.8592 - val_acc: 0.7061\n",
      "Epoch 17/20\n",
      "50000/50000 [==============================] - 105s - loss: 0.5747 - acc: 0.7961 - val_loss: 0.8438 - val_acc: 0.7217\n",
      "Epoch 18/20\n",
      "50000/50000 [==============================] - 106s - loss: 0.5539 - acc: 0.8038 - val_loss: 0.8456 - val_acc: 0.7177\n",
      "Epoch 19/20\n",
      "50000/50000 [==============================] - 105s - loss: 0.5504 - acc: 0.8039 - val_loss: 0.8716 - val_acc: 0.7169\n",
      "Epoch 20/20\n",
      "50000/50000 [==============================] - 105s - loss: 0.5301 - acc: 0.8107 - val_loss: 0.8895 - val_acc: 0.7181\n"
     ]
    },
    {
     "data": {
      "text/plain": [
       "<keras.callbacks.History at 0x1150ee4d0>"
      ]
     },
     "execution_count": 33,
     "metadata": {},
     "output_type": "execute_result"
    }
   ],
   "source": [
    "model2 = Sequential()\n",
    "model2.add(Convolution2D(32,3,3,border_mode='same',input_shape=(3,32,32)))\n",
    "model2.add(Activation('relu'))\n",
    "model2.add(MaxPooling2D(pool_size=(2,2)))\n",
    "\n",
    "model2.add(Convolution2D(32,3,3,border_mode='same'))\n",
    "model2.add(Activation('relu'))\n",
    "model2.add(MaxPooling2D(pool_size=(2,2)))\n",
    "\n",
    "model2.add(Convolution2D(32,3,3,border_mode='same'))\n",
    "model2.add(Activation('relu'))\n",
    "model2.add(MaxPooling2D(pool_size=(2,2)))\n",
    "\n",
    "model2.add(Convolution2D(32,3,3,border_mode='same'))\n",
    "model2.add(Activation('relu'))\n",
    "model2.add(MaxPooling2D(pool_size=(2,2)))\n",
    "\n",
    "model2.add(Convolution2D(32,3,3,border_mode='same'))\n",
    "model2.add(Activation('relu'))\n",
    "model2.add(MaxPooling2D(pool_size=(2,2)))\n",
    "\n",
    "model2.add(Flatten())\n",
    "model2.add(Dense(output_dim=512,input_dim=7200,activation='relu'))\n",
    "model2.add(Dense(output_dim=10,input_dim=512))\n",
    "model2.add(Activation('softmax'))\n",
    "\n",
    "#sgd = SGD(lr=0.01, decay=1e-6, momentum=0.9, nesterov=True)\n",
    "model2.compile(loss='categorical_crossentropy',\n",
    "              optimizer='Adam',\n",
    "              metrics=['accuracy'])\n",
    "\n",
    "model2.fit(X_train,y_train,\n",
    "              batch_size=batch_size,\n",
    "              nb_epoch=nb_epoch,\n",
    "              validation_data=(X_test, y_test),\n",
    "              shuffle=True)"
   ]
  },
  {
   "cell_type": "code",
   "execution_count": 34,
   "metadata": {
    "collapsed": false,
    "scrolled": true
   },
   "outputs": [
    {
     "data": {
      "image/svg+xml": [
       "<svg height=\"1432pt\" viewBox=\"0.00 0.00 229.68 1432.00\" width=\"230pt\" xmlns=\"http://www.w3.org/2000/svg\" xmlns:xlink=\"http://www.w3.org/1999/xlink\">\n",
       "<g class=\"graph\" id=\"graph0\" transform=\"scale(1 1) rotate(0) translate(4 1428)\">\n",
       "<title>G</title>\n",
       "<polygon fill=\"white\" points=\"-4,4 -4,-1428 225.68,-1428 225.68,4 -4,4\" stroke=\"transparent\"/>\n",
       "<!-- 4591684176 -->\n",
       "<g class=\"node\" id=\"node1\">\n",
       "<title>4591684176</title>\n",
       "<polygon fill=\"none\" points=\"0,-1387.5 0,-1423.5 221.68,-1423.5 221.68,-1387.5 0,-1387.5\" stroke=\"black\"/>\n",
       "<text font-family=\"Times,serif\" font-size=\"14.00\" text-anchor=\"middle\" x=\"110.84\" y=\"-1401.3\">convolution2d_input_4 (InputLayer)</text>\n",
       "</g>\n",
       "<!-- 4591746704 -->\n",
       "<g class=\"node\" id=\"node2\">\n",
       "<title>4591746704</title>\n",
       "<polygon fill=\"none\" points=\"1.92773,-1314.5 1.92773,-1350.5 219.752,-1350.5 219.752,-1314.5 1.92773,-1314.5\" stroke=\"black\"/>\n",
       "<text font-family=\"Times,serif\" font-size=\"14.00\" text-anchor=\"middle\" x=\"110.84\" y=\"-1328.3\">convolution2d_12 (Convolution2D)</text>\n",
       "</g>\n",
       "<!-- 4591684176&#45;&gt;4591746704 -->\n",
       "<g class=\"edge\" id=\"edge1\">\n",
       "<title>4591684176-&gt;4591746704</title>\n",
       "<path d=\"M110.84,-1387.46C110.84,-1379.38 110.84,-1369.68 110.84,-1360.68\" fill=\"none\" stroke=\"black\"/>\n",
       "<polygon fill=\"black\" points=\"114.34,-1360.59 110.84,-1350.59 107.34,-1360.59 114.34,-1360.59\" stroke=\"black\"/>\n",
       "</g>\n",
       "<!-- 4591746448 -->\n",
       "<g class=\"node\" id=\"node3\">\n",
       "<title>4591746448</title>\n",
       "<polygon fill=\"none\" points=\"28.7793,-1241.5 28.7793,-1277.5 192.9,-1277.5 192.9,-1241.5 28.7793,-1241.5\" stroke=\"black\"/>\n",
       "<text font-family=\"Times,serif\" font-size=\"14.00\" text-anchor=\"middle\" x=\"110.84\" y=\"-1255.3\">activation_15 (Activation)</text>\n",
       "</g>\n",
       "<!-- 4591746704&#45;&gt;4591746448 -->\n",
       "<g class=\"edge\" id=\"edge2\">\n",
       "<title>4591746704-&gt;4591746448</title>\n",
       "<path d=\"M110.84,-1314.46C110.84,-1306.38 110.84,-1296.68 110.84,-1287.68\" fill=\"none\" stroke=\"black\"/>\n",
       "<polygon fill=\"black\" points=\"114.34,-1287.59 110.84,-1277.59 107.34,-1287.59 114.34,-1287.59\" stroke=\"black\"/>\n",
       "</g>\n",
       "<!-- 4516561616 -->\n",
       "<g class=\"node\" id=\"node4\">\n",
       "<title>4516561616</title>\n",
       "<polygon fill=\"none\" points=\"2.31738,-1168.5 2.31738,-1204.5 219.362,-1204.5 219.362,-1168.5 2.31738,-1168.5\" stroke=\"black\"/>\n",
       "<text font-family=\"Times,serif\" font-size=\"14.00\" text-anchor=\"middle\" x=\"110.84\" y=\"-1182.3\">maxpooling2d_12 (MaxPooling2D)</text>\n",
       "</g>\n",
       "<!-- 4591746448&#45;&gt;4516561616 -->\n",
       "<g class=\"edge\" id=\"edge3\">\n",
       "<title>4591746448-&gt;4516561616</title>\n",
       "<path d=\"M110.84,-1241.46C110.84,-1233.38 110.84,-1223.68 110.84,-1214.68\" fill=\"none\" stroke=\"black\"/>\n",
       "<polygon fill=\"black\" points=\"114.34,-1214.59 110.84,-1204.59 107.34,-1214.59 114.34,-1214.59\" stroke=\"black\"/>\n",
       "</g>\n",
       "<!-- 4516562384 -->\n",
       "<g class=\"node\" id=\"node5\">\n",
       "<title>4516562384</title>\n",
       "<polygon fill=\"none\" points=\"1.92773,-1095.5 1.92773,-1131.5 219.752,-1131.5 219.752,-1095.5 1.92773,-1095.5\" stroke=\"black\"/>\n",
       "<text font-family=\"Times,serif\" font-size=\"14.00\" text-anchor=\"middle\" x=\"110.84\" y=\"-1109.3\">convolution2d_13 (Convolution2D)</text>\n",
       "</g>\n",
       "<!-- 4516561616&#45;&gt;4516562384 -->\n",
       "<g class=\"edge\" id=\"edge4\">\n",
       "<title>4516561616-&gt;4516562384</title>\n",
       "<path d=\"M110.84,-1168.46C110.84,-1160.38 110.84,-1150.68 110.84,-1141.68\" fill=\"none\" stroke=\"black\"/>\n",
       "<polygon fill=\"black\" points=\"114.34,-1141.59 110.84,-1131.59 107.34,-1141.59 114.34,-1141.59\" stroke=\"black\"/>\n",
       "</g>\n",
       "<!-- 4519017168 -->\n",
       "<g class=\"node\" id=\"node6\">\n",
       "<title>4519017168</title>\n",
       "<polygon fill=\"none\" points=\"28.7793,-1022.5 28.7793,-1058.5 192.9,-1058.5 192.9,-1022.5 28.7793,-1022.5\" stroke=\"black\"/>\n",
       "<text font-family=\"Times,serif\" font-size=\"14.00\" text-anchor=\"middle\" x=\"110.84\" y=\"-1036.3\">activation_16 (Activation)</text>\n",
       "</g>\n",
       "<!-- 4516562384&#45;&gt;4519017168 -->\n",
       "<g class=\"edge\" id=\"edge5\">\n",
       "<title>4516562384-&gt;4519017168</title>\n",
       "<path d=\"M110.84,-1095.46C110.84,-1087.38 110.84,-1077.68 110.84,-1068.68\" fill=\"none\" stroke=\"black\"/>\n",
       "<polygon fill=\"black\" points=\"114.34,-1068.59 110.84,-1058.59 107.34,-1068.59 114.34,-1068.59\" stroke=\"black\"/>\n",
       "</g>\n",
       "<!-- 4592074256 -->\n",
       "<g class=\"node\" id=\"node7\">\n",
       "<title>4592074256</title>\n",
       "<polygon fill=\"none\" points=\"2.31738,-949.5 2.31738,-985.5 219.362,-985.5 219.362,-949.5 2.31738,-949.5\" stroke=\"black\"/>\n",
       "<text font-family=\"Times,serif\" font-size=\"14.00\" text-anchor=\"middle\" x=\"110.84\" y=\"-963.3\">maxpooling2d_13 (MaxPooling2D)</text>\n",
       "</g>\n",
       "<!-- 4519017168&#45;&gt;4592074256 -->\n",
       "<g class=\"edge\" id=\"edge6\">\n",
       "<title>4519017168-&gt;4592074256</title>\n",
       "<path d=\"M110.84,-1022.46C110.84,-1014.38 110.84,-1004.68 110.84,-995.682\" fill=\"none\" stroke=\"black\"/>\n",
       "<polygon fill=\"black\" points=\"114.34,-995.59 110.84,-985.59 107.34,-995.59 114.34,-995.59\" stroke=\"black\"/>\n",
       "</g>\n",
       "<!-- 4607268880 -->\n",
       "<g class=\"node\" id=\"node8\">\n",
       "<title>4607268880</title>\n",
       "<polygon fill=\"none\" points=\"1.92773,-876.5 1.92773,-912.5 219.752,-912.5 219.752,-876.5 1.92773,-876.5\" stroke=\"black\"/>\n",
       "<text font-family=\"Times,serif\" font-size=\"14.00\" text-anchor=\"middle\" x=\"110.84\" y=\"-890.3\">convolution2d_14 (Convolution2D)</text>\n",
       "</g>\n",
       "<!-- 4592074256&#45;&gt;4607268880 -->\n",
       "<g class=\"edge\" id=\"edge7\">\n",
       "<title>4592074256-&gt;4607268880</title>\n",
       "<path d=\"M110.84,-949.455C110.84,-941.383 110.84,-931.676 110.84,-922.682\" fill=\"none\" stroke=\"black\"/>\n",
       "<polygon fill=\"black\" points=\"114.34,-922.59 110.84,-912.59 107.34,-922.59 114.34,-922.59\" stroke=\"black\"/>\n",
       "</g>\n",
       "<!-- 4607268752 -->\n",
       "<g class=\"node\" id=\"node9\">\n",
       "<title>4607268752</title>\n",
       "<polygon fill=\"none\" points=\"28.7793,-803.5 28.7793,-839.5 192.9,-839.5 192.9,-803.5 28.7793,-803.5\" stroke=\"black\"/>\n",
       "<text font-family=\"Times,serif\" font-size=\"14.00\" text-anchor=\"middle\" x=\"110.84\" y=\"-817.3\">activation_17 (Activation)</text>\n",
       "</g>\n",
       "<!-- 4607268880&#45;&gt;4607268752 -->\n",
       "<g class=\"edge\" id=\"edge8\">\n",
       "<title>4607268880-&gt;4607268752</title>\n",
       "<path d=\"M110.84,-876.455C110.84,-868.383 110.84,-858.676 110.84,-849.682\" fill=\"none\" stroke=\"black\"/>\n",
       "<polygon fill=\"black\" points=\"114.34,-849.59 110.84,-839.59 107.34,-849.59 114.34,-849.59\" stroke=\"black\"/>\n",
       "</g>\n",
       "<!-- 4610542416 -->\n",
       "<g class=\"node\" id=\"node10\">\n",
       "<title>4610542416</title>\n",
       "<polygon fill=\"none\" points=\"2.31738,-730.5 2.31738,-766.5 219.362,-766.5 219.362,-730.5 2.31738,-730.5\" stroke=\"black\"/>\n",
       "<text font-family=\"Times,serif\" font-size=\"14.00\" text-anchor=\"middle\" x=\"110.84\" y=\"-744.3\">maxpooling2d_14 (MaxPooling2D)</text>\n",
       "</g>\n",
       "<!-- 4607268752&#45;&gt;4610542416 -->\n",
       "<g class=\"edge\" id=\"edge9\">\n",
       "<title>4607268752-&gt;4610542416</title>\n",
       "<path d=\"M110.84,-803.455C110.84,-795.383 110.84,-785.676 110.84,-776.682\" fill=\"none\" stroke=\"black\"/>\n",
       "<polygon fill=\"black\" points=\"114.34,-776.59 110.84,-766.59 107.34,-776.59 114.34,-776.59\" stroke=\"black\"/>\n",
       "</g>\n",
       "<!-- 4610542544 -->\n",
       "<g class=\"node\" id=\"node11\">\n",
       "<title>4610542544</title>\n",
       "<polygon fill=\"none\" points=\"1.92773,-657.5 1.92773,-693.5 219.752,-693.5 219.752,-657.5 1.92773,-657.5\" stroke=\"black\"/>\n",
       "<text font-family=\"Times,serif\" font-size=\"14.00\" text-anchor=\"middle\" x=\"110.84\" y=\"-671.3\">convolution2d_15 (Convolution2D)</text>\n",
       "</g>\n",
       "<!-- 4610542416&#45;&gt;4610542544 -->\n",
       "<g class=\"edge\" id=\"edge10\">\n",
       "<title>4610542416-&gt;4610542544</title>\n",
       "<path d=\"M110.84,-730.455C110.84,-722.383 110.84,-712.676 110.84,-703.682\" fill=\"none\" stroke=\"black\"/>\n",
       "<polygon fill=\"black\" points=\"114.34,-703.59 110.84,-693.59 107.34,-703.59 114.34,-703.59\" stroke=\"black\"/>\n",
       "</g>\n",
       "<!-- 4516546320 -->\n",
       "<g class=\"node\" id=\"node12\">\n",
       "<title>4516546320</title>\n",
       "<polygon fill=\"none\" points=\"28.7793,-584.5 28.7793,-620.5 192.9,-620.5 192.9,-584.5 28.7793,-584.5\" stroke=\"black\"/>\n",
       "<text font-family=\"Times,serif\" font-size=\"14.00\" text-anchor=\"middle\" x=\"110.84\" y=\"-598.3\">activation_18 (Activation)</text>\n",
       "</g>\n",
       "<!-- 4610542544&#45;&gt;4516546320 -->\n",
       "<g class=\"edge\" id=\"edge11\">\n",
       "<title>4610542544-&gt;4516546320</title>\n",
       "<path d=\"M110.84,-657.455C110.84,-649.383 110.84,-639.676 110.84,-630.682\" fill=\"none\" stroke=\"black\"/>\n",
       "<polygon fill=\"black\" points=\"114.34,-630.59 110.84,-620.59 107.34,-630.59 114.34,-630.59\" stroke=\"black\"/>\n",
       "</g>\n",
       "<!-- 4592404624 -->\n",
       "<g class=\"node\" id=\"node13\">\n",
       "<title>4592404624</title>\n",
       "<polygon fill=\"none\" points=\"2.31738,-511.5 2.31738,-547.5 219.362,-547.5 219.362,-511.5 2.31738,-511.5\" stroke=\"black\"/>\n",
       "<text font-family=\"Times,serif\" font-size=\"14.00\" text-anchor=\"middle\" x=\"110.84\" y=\"-525.3\">maxpooling2d_15 (MaxPooling2D)</text>\n",
       "</g>\n",
       "<!-- 4516546320&#45;&gt;4592404624 -->\n",
       "<g class=\"edge\" id=\"edge12\">\n",
       "<title>4516546320-&gt;4592404624</title>\n",
       "<path d=\"M110.84,-584.455C110.84,-576.383 110.84,-566.676 110.84,-557.682\" fill=\"none\" stroke=\"black\"/>\n",
       "<polygon fill=\"black\" points=\"114.34,-557.59 110.84,-547.59 107.34,-557.59 114.34,-557.59\" stroke=\"black\"/>\n",
       "</g>\n",
       "<!-- 4592403728 -->\n",
       "<g class=\"node\" id=\"node14\">\n",
       "<title>4592403728</title>\n",
       "<polygon fill=\"none\" points=\"1.92773,-438.5 1.92773,-474.5 219.752,-474.5 219.752,-438.5 1.92773,-438.5\" stroke=\"black\"/>\n",
       "<text font-family=\"Times,serif\" font-size=\"14.00\" text-anchor=\"middle\" x=\"110.84\" y=\"-452.3\">convolution2d_16 (Convolution2D)</text>\n",
       "</g>\n",
       "<!-- 4592404624&#45;&gt;4592403728 -->\n",
       "<g class=\"edge\" id=\"edge13\">\n",
       "<title>4592404624-&gt;4592403728</title>\n",
       "<path d=\"M110.84,-511.455C110.84,-503.383 110.84,-493.676 110.84,-484.682\" fill=\"none\" stroke=\"black\"/>\n",
       "<polygon fill=\"black\" points=\"114.34,-484.59 110.84,-474.59 107.34,-484.59 114.34,-484.59\" stroke=\"black\"/>\n",
       "</g>\n",
       "<!-- 4592130768 -->\n",
       "<g class=\"node\" id=\"node15\">\n",
       "<title>4592130768</title>\n",
       "<polygon fill=\"none\" points=\"28.7793,-365.5 28.7793,-401.5 192.9,-401.5 192.9,-365.5 28.7793,-365.5\" stroke=\"black\"/>\n",
       "<text font-family=\"Times,serif\" font-size=\"14.00\" text-anchor=\"middle\" x=\"110.84\" y=\"-379.3\">activation_19 (Activation)</text>\n",
       "</g>\n",
       "<!-- 4592403728&#45;&gt;4592130768 -->\n",
       "<g class=\"edge\" id=\"edge14\">\n",
       "<title>4592403728-&gt;4592130768</title>\n",
       "<path d=\"M110.84,-438.455C110.84,-430.383 110.84,-420.676 110.84,-411.682\" fill=\"none\" stroke=\"black\"/>\n",
       "<polygon fill=\"black\" points=\"114.34,-411.59 110.84,-401.59 107.34,-411.59 114.34,-411.59\" stroke=\"black\"/>\n",
       "</g>\n",
       "<!-- 4592038928 -->\n",
       "<g class=\"node\" id=\"node16\">\n",
       "<title>4592038928</title>\n",
       "<polygon fill=\"none\" points=\"2.31738,-292.5 2.31738,-328.5 219.362,-328.5 219.362,-292.5 2.31738,-292.5\" stroke=\"black\"/>\n",
       "<text font-family=\"Times,serif\" font-size=\"14.00\" text-anchor=\"middle\" x=\"110.84\" y=\"-306.3\">maxpooling2d_16 (MaxPooling2D)</text>\n",
       "</g>\n",
       "<!-- 4592130768&#45;&gt;4592038928 -->\n",
       "<g class=\"edge\" id=\"edge15\">\n",
       "<title>4592130768-&gt;4592038928</title>\n",
       "<path d=\"M110.84,-365.455C110.84,-357.383 110.84,-347.676 110.84,-338.682\" fill=\"none\" stroke=\"black\"/>\n",
       "<polygon fill=\"black\" points=\"114.34,-338.59 110.84,-328.59 107.34,-338.59 114.34,-338.59\" stroke=\"black\"/>\n",
       "</g>\n",
       "<!-- 4592040848 -->\n",
       "<g class=\"node\" id=\"node17\">\n",
       "<title>4592040848</title>\n",
       "<polygon fill=\"none\" points=\"52.4897,-219.5 52.4897,-255.5 169.19,-255.5 169.19,-219.5 52.4897,-219.5\" stroke=\"black\"/>\n",
       "<text font-family=\"Times,serif\" font-size=\"14.00\" text-anchor=\"middle\" x=\"110.84\" y=\"-233.3\">flatten_4 (Flatten)</text>\n",
       "</g>\n",
       "<!-- 4592038928&#45;&gt;4592040848 -->\n",
       "<g class=\"edge\" id=\"edge16\">\n",
       "<title>4592038928-&gt;4592040848</title>\n",
       "<path d=\"M110.84,-292.455C110.84,-284.383 110.84,-274.676 110.84,-265.682\" fill=\"none\" stroke=\"black\"/>\n",
       "<polygon fill=\"black\" points=\"114.34,-265.59 110.84,-255.59 107.34,-265.59 114.34,-265.59\" stroke=\"black\"/>\n",
       "</g>\n",
       "<!-- 4516595600 -->\n",
       "<g class=\"node\" id=\"node18\">\n",
       "<title>4516595600</title>\n",
       "<polygon fill=\"none\" points=\"55.9966,-146.5 55.9966,-182.5 165.683,-182.5 165.683,-146.5 55.9966,-146.5\" stroke=\"black\"/>\n",
       "<text font-family=\"Times,serif\" font-size=\"14.00\" text-anchor=\"middle\" x=\"110.84\" y=\"-160.3\">dense_7 (Dense)</text>\n",
       "</g>\n",
       "<!-- 4592040848&#45;&gt;4516595600 -->\n",
       "<g class=\"edge\" id=\"edge17\">\n",
       "<title>4592040848-&gt;4516595600</title>\n",
       "<path d=\"M110.84,-219.455C110.84,-211.383 110.84,-201.676 110.84,-192.682\" fill=\"none\" stroke=\"black\"/>\n",
       "<polygon fill=\"black\" points=\"114.34,-192.59 110.84,-182.59 107.34,-192.59 114.34,-192.59\" stroke=\"black\"/>\n",
       "</g>\n",
       "<!-- 4592112464 -->\n",
       "<g class=\"node\" id=\"node19\">\n",
       "<title>4592112464</title>\n",
       "<polygon fill=\"none\" points=\"55.9966,-73.5 55.9966,-109.5 165.683,-109.5 165.683,-73.5 55.9966,-73.5\" stroke=\"black\"/>\n",
       "<text font-family=\"Times,serif\" font-size=\"14.00\" text-anchor=\"middle\" x=\"110.84\" y=\"-87.3\">dense_8 (Dense)</text>\n",
       "</g>\n",
       "<!-- 4516595600&#45;&gt;4592112464 -->\n",
       "<g class=\"edge\" id=\"edge18\">\n",
       "<title>4516595600-&gt;4592112464</title>\n",
       "<path d=\"M110.84,-146.455C110.84,-138.383 110.84,-128.676 110.84,-119.682\" fill=\"none\" stroke=\"black\"/>\n",
       "<polygon fill=\"black\" points=\"114.34,-119.59 110.84,-109.59 107.34,-119.59 114.34,-119.59\" stroke=\"black\"/>\n",
       "</g>\n",
       "<!-- 4592048464 -->\n",
       "<g class=\"node\" id=\"node20\">\n",
       "<title>4592048464</title>\n",
       "<polygon fill=\"none\" points=\"28.7793,-0.5 28.7793,-36.5 192.9,-36.5 192.9,-0.5 28.7793,-0.5\" stroke=\"black\"/>\n",
       "<text font-family=\"Times,serif\" font-size=\"14.00\" text-anchor=\"middle\" x=\"110.84\" y=\"-14.3\">activation_20 (Activation)</text>\n",
       "</g>\n",
       "<!-- 4592112464&#45;&gt;4592048464 -->\n",
       "<g class=\"edge\" id=\"edge19\">\n",
       "<title>4592112464-&gt;4592048464</title>\n",
       "<path d=\"M110.84,-73.4551C110.84,-65.3828 110.84,-55.6764 110.84,-46.6817\" fill=\"none\" stroke=\"black\"/>\n",
       "<polygon fill=\"black\" points=\"114.34,-46.5903 110.84,-36.5904 107.34,-46.5904 114.34,-46.5903\" stroke=\"black\"/>\n",
       "</g>\n",
       "</g>\n",
       "</svg>"
      ],
      "text/plain": [
       "<IPython.core.display.SVG object>"
      ]
     },
     "execution_count": 34,
     "metadata": {},
     "output_type": "execute_result"
    }
   ],
   "source": [
    "SVG(model_to_dot(model2).create(prog='dot', format='svg'))"
   ]
  },
  {
   "cell_type": "code",
   "execution_count": null,
   "metadata": {
    "collapsed": true
   },
   "outputs": [],
   "source": []
  }
 ],
 "metadata": {
  "kernelspec": {
   "display_name": "Python 2",
   "language": "python",
   "name": "python2"
  },
  "language_info": {
   "codemirror_mode": {
    "name": "ipython",
    "version": 2
   },
   "file_extension": ".py",
   "mimetype": "text/x-python",
   "name": "python",
   "nbconvert_exporter": "python",
   "pygments_lexer": "ipython2",
   "version": "2.7.11"
  },
  "latex_envs": {
   "bibliofile": "biblio.bib",
   "cite_by": "apalike",
   "current_citInitial": 1,
   "eqLabelWithNumbers": true,
   "eqNumInitial": 0
  },
  "nav_menu": {},
  "toc": {
   "navigate_menu": true,
   "number_sections": true,
   "sideBar": true,
   "threshold": 6,
   "toc_cell": false,
   "toc_section_display": "block",
   "toc_window_display": false
  }
 },
 "nbformat": 4,
 "nbformat_minor": 0
}
