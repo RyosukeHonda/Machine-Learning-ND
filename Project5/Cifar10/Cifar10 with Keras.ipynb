{
 "cells": [
  {
   "cell_type": "markdown",
   "metadata": {
    "cell_style": "center"
   },
   "source": [
    " # Import Packages"
   ]
  },
  {
   "cell_type": "code",
   "execution_count": 27,
   "metadata": {
    "collapsed": false
   },
   "outputs": [],
   "source": [
    "import numpy as np\n",
    "import matplotlib.pyplot as plt\n",
    "import seaborn as sns\n",
    "import pandas as pd\n",
    "import cPickle\n",
    "sns.set(style='white',palette='muted',color_codes=True)\n",
    "%matplotlib inline"
   ]
  },
  {
   "cell_type": "markdown",
   "metadata": {},
   "source": [
    "# Unpickle data"
   ]
  },
  {
   "cell_type": "code",
   "execution_count": 119,
   "metadata": {
    "collapsed": true
   },
   "outputs": [],
   "source": [
    "#Functiion for unpickle the data.\n",
    "def unpickle(f):\n",
    "    fo = open(f,'rb')\n",
    "    d = cPickle.load(fo)\n",
    "    fo.close()\n",
    "    return d"
   ]
  },
  {
   "cell_type": "markdown",
   "metadata": {},
   "source": [
    "# Load CIFAR-10 dataset"
   ]
  },
  {
   "cell_type": "code",
   "execution_count": 17,
   "metadata": {
    "collapsed": true
   },
   "outputs": [],
   "source": [
    "def load_cifar10(dir):\n",
    "    train_data=[]\n",
    "    train_target=[]\n",
    "    \n",
    "    for i in range(1,6):\n",
    "        d = unpickle('%s/data_batch_%d' %(dir,i))\n",
    "        train_data.extend(d['data'])\n",
    "        train_target.extend(d['labels'])\n",
    "        \n",
    "    d = unpickle('%s/test_batch' %(dir))\n",
    "    test_data = d['data']\n",
    "    test_target = d['labels']\n",
    "    \n",
    "    train_data = np.array(train_data,dtype=np.float32)\n",
    "    train_target = np.array(train_target,dtype=np.int32)\n",
    "    test_data = np.array(test_data,dtype=np.float32)\n",
    "    test_target = np.array(test_target,dtype=np.int32)\n",
    "    \n",
    "    train_data /=255.0\n",
    "    test_data /=255.0\n",
    "    \n",
    "    return train_data,test_data,train_target,test_target"
   ]
  },
  {
   "cell_type": "code",
   "execution_count": 18,
   "metadata": {
    "collapsed": false
   },
   "outputs": [],
   "source": [
    "X_train,X_test,y_train,y_test = load_cifar10(\"cifar-10-batches-py\")"
   ]
  },
  {
   "cell_type": "code",
   "execution_count": 19,
   "metadata": {
    "collapsed": false
   },
   "outputs": [],
   "source": [
    "X_train = X_train.reshape((len(X_train),3,32,32))\n",
    "X_test = X_test.reshape((len(X_test),3,32,32))"
   ]
  },
  {
   "cell_type": "code",
   "execution_count": 24,
   "metadata": {
    "collapsed": false
   },
   "outputs": [
    {
     "data": {
      "text/plain": [
       "(0, 6000)"
      ]
     },
     "execution_count": 24,
     "metadata": {},
     "output_type": "execute_result"
    },
    {
     "data": {
      "image/png": "[encoded data removed]",
      "text/plain": [
       "<matplotlib.figure.Figure at 0x10be5c090>"
      ]
     },
     "metadata": {},
     "output_type": "display_data"
    }
   ],
   "source": [
    "plt.hist(y_train)\n",
    "plt.xlim(0,9)\n",
    "plt.ylim(0,6000)"
   ]
  },
  {
   "cell_type": "code",
   "execution_count": 55,
   "metadata": {
    "collapsed": false
   },
   "outputs": [
    {
     "data": {
      "text/plain": [
       "<matplotlib.text.Text at 0x11845e610>"
      ]
     },
     "execution_count": 55,
     "metadata": {},
     "output_type": "execute_result"
    },
    {
     "data": {
      "image/png": "[encoded data removed]",
      "text/plain": [
       "<matplotlib.figure.Figure at 0x118454f50>"
      ]
     },
     "metadata": {},
     "output_type": "display_data"
    }
   ],
   "source": [
    "sns.distplot(y_train,kde=False,rug=False,color='b')\n",
    "plt.ylim(0,6000)\n",
    "plt.xticks(fontsize=15)\n",
    "plt.yticks(fontsize=15)\n",
    "plt.xlabel('Label',fontsize=15)\n",
    "plt.ylabel('Frequency',fontsize=15)\n",
    "#plt.title('Distribution of Training Data',fontsize=15)"
   ]
  },
  {
   "cell_type": "code",
   "execution_count": 56,
   "metadata": {
    "collapsed": false
   },
   "outputs": [
    {
     "data": {
      "text/plain": [
       "<matplotlib.text.Text at 0x11845e710>"
      ]
     },
     "execution_count": 56,
     "metadata": {},
     "output_type": "execute_result"
    },
    {
     "data": {
      "image/png": "[encoded data removed]",
      "text/plain": [
       "<matplotlib.figure.Figure at 0x11880e390>"
      ]
     },
     "metadata": {},
     "output_type": "display_data"
    }
   ],
   "source": [
    "sns.distplot(y_test,kde=False,rug=False,color='r')\n",
    "plt.ylim(0,1500)\n",
    "\n",
    "plt.xticks(fontsize=15)\n",
    "plt.yticks(fontsize=15)\n",
    "plt.xlabel('Label',fontsize=15)\n",
    "plt.ylabel('Frequency',fontsize=15)\n",
    "#plt.title(\"Distribution of Test Data\",fontsize=15)"
   ]
  },
  {
   "cell_type": "code",
   "execution_count": 74,
   "metadata": {
    "collapsed": false
   },
   "outputs": [],
   "source": [
    "from keras.utils import np_utils\n",
    "nb_classes =10\n",
    "\n",
    "#Change the target values into one-hot vectors \n",
    "y_train = np_utils.to_categorical(y_train, nb_classes)\n",
    "y_test = np_utils.to_categorical(y_test, nb_classes)"
   ]
  },
  {
   "cell_type": "code",
   "execution_count": 75,
   "metadata": {
    "collapsed": false
   },
   "outputs": [
    {
     "data": {
      "text/plain": [
       "array([[ 0.,  0.,  0., ...,  0.,  0.,  0.],\n",
       "       [ 0.,  0.,  0., ...,  0.,  1.,  0.],\n",
       "       [ 0.,  0.,  0., ...,  0.,  1.,  0.],\n",
       "       ..., \n",
       "       [ 0.,  0.,  0., ...,  0.,  0.,  0.],\n",
       "       [ 0.,  1.,  0., ...,  0.,  0.,  0.],\n",
       "       [ 0.,  0.,  0., ...,  1.,  0.,  0.]])"
      ]
     },
     "execution_count": 75,
     "metadata": {},
     "output_type": "execute_result"
    }
   ],
   "source": [
    "y_test\n",
    "#y_train"
   ]
  },
  {
   "cell_type": "code",
   "execution_count": null,
   "metadata": {
    "collapsed": true
   },
   "outputs": [],
   "source": []
  },
  {
   "cell_type": "markdown",
   "metadata": {},
   "source": [
    "# Import Deep Learning Library"
   ]
  },
  {
   "cell_type": "code",
   "execution_count": 101,
   "metadata": {
    "collapsed": false
   },
   "outputs": [],
   "source": [
    "from keras.models import Sequential\n",
    "from keras.layers import Dense,Activation,MaxPooling2D,Flatten\n",
    "from keras.layers import Convolution2D\n",
    "from keras.utils import np_utils\n",
    "from keras.optimizers import SGD,Adam\n",
    "from keras import backend as K\n",
    "from IPython.display import SVG\n",
    "from keras.utils.visualize_util import model_to_dot, plot"
   ]
  },
  {
   "cell_type": "markdown",
   "metadata": {},
   "source": [
    "# Model 1"
   ]
  },
  {
   "cell_type": "code",
   "execution_count": 120,
   "metadata": {
    "collapsed": false
   },
   "outputs": [],
   "source": [
    "batch_size = 32\n",
    "nb_classes = 10\n",
    "nb_epoch = 20\n",
    "nb_filters=32\n",
    "model = Sequential()\n",
    "model.add(Convolution2D(nb_filters,3,3,border_mode='same',input_shape=(3,32,32)))\n",
    "model.add(Activation('relu'))\n",
    "model.add(MaxPooling2D(pool_size=(2,2)))\n",
    "model.add(Flatten())\n",
    "model.add(Dense(output_dim=512,input_dim=7200,activation='relu'))\n",
    "model.add(Dense(output_dim=nb_classes,input_dim=512))\n",
    "model.add(Activation('softmax'))\n",
    "\n",
    "sgd = SGD(lr=0.01, decay=1e-6, momentum=0.9, nesterov=True)\n",
    "model.compile(loss='categorical_crossentropy',\n",
    "              optimizer=sgd,\n",
    "              metrics=['accuracy'])\n",
    "\n"
   ]
  },
  {
   "cell_type": "code",
   "execution_count": 121,
   "metadata": {
    "collapsed": false
   },
   "outputs": [
    {
     "name": "stdout",
     "output_type": "stream",
     "text": [
      "Train on 50000 samples, validate on 10000 samples\n",
      "Epoch 1/20\n",
      "50000/50000 [==============================] - 95s - loss: 1.4670 - acc: 0.4749 - val_loss: 1.2792 - val_acc: 0.5541\n",
      "Epoch 2/20\n",
      "50000/50000 [==============================] - 95s - loss: 1.1078 - acc: 0.6109 - val_loss: 1.0973 - val_acc: 0.6111\n",
      "Epoch 3/20\n",
      "50000/50000 [==============================] - 95s - loss: 0.9239 - acc: 0.6749 - val_loss: 1.0559 - val_acc: 0.6326\n",
      "Epoch 4/20\n",
      "50000/50000 [==============================] - 96s - loss: 0.7595 - acc: 0.7337 - val_loss: 1.0463 - val_acc: 0.6423\n",
      "Epoch 5/20\n",
      "50000/50000 [==============================] - 96s - loss: 0.5923 - acc: 0.7933 - val_loss: 1.1045 - val_acc: 0.6520\n",
      "Epoch 6/20\n",
      "50000/50000 [==============================] - 96s - loss: 0.4291 - acc: 0.8521 - val_loss: 1.1924 - val_acc: 0.6489\n",
      "Epoch 7/20\n",
      "50000/50000 [==============================] - 94s - loss: 0.2905 - acc: 0.9006 - val_loss: 1.3250 - val_acc: 0.6482\n",
      "Epoch 8/20\n",
      "50000/50000 [==============================] - 97s - loss: 0.2002 - acc: 0.9326 - val_loss: 1.5001 - val_acc: 0.6549\n",
      "Epoch 9/20\n",
      "50000/50000 [==============================] - 95s - loss: 0.1412 - acc: 0.9538 - val_loss: 1.5604 - val_acc: 0.6563\n",
      "Epoch 10/20\n",
      "50000/50000 [==============================] - 94s - loss: 0.0991 - acc: 0.9691 - val_loss: 1.6649 - val_acc: 0.6579\n",
      "Epoch 11/20\n",
      "50000/50000 [==============================] - 97s - loss: 0.0711 - acc: 0.9785 - val_loss: 1.7964 - val_acc: 0.6529\n",
      "Epoch 12/20\n",
      "50000/50000 [==============================] - 97s - loss: 0.0642 - acc: 0.9806 - val_loss: 1.9211 - val_acc: 0.6519\n",
      "Epoch 13/20\n",
      "50000/50000 [==============================] - 92s - loss: 0.0583 - acc: 0.9819 - val_loss: 1.9423 - val_acc: 0.6436\n",
      "Epoch 14/20\n",
      "50000/50000 [==============================] - 92s - loss: 0.0424 - acc: 0.9881 - val_loss: 1.9623 - val_acc: 0.6644\n",
      "Epoch 15/20\n",
      "50000/50000 [==============================] - 95s - loss: 0.0247 - acc: 0.9930 - val_loss: 2.2666 - val_acc: 0.6499\n",
      "Epoch 16/20\n",
      "50000/50000 [==============================] - 99s - loss: 0.0299 - acc: 0.9909 - val_loss: 2.1222 - val_acc: 0.6600\n",
      "Epoch 17/20\n",
      "50000/50000 [==============================] - 93s - loss: 0.0151 - acc: 0.9965 - val_loss: 2.1414 - val_acc: 0.6682\n",
      "Epoch 18/20\n",
      "50000/50000 [==============================] - 96s - loss: 0.0083 - acc: 0.9985 - val_loss: 2.1638 - val_acc: 0.6719\n",
      "Epoch 19/20\n",
      "50000/50000 [==============================] - 109s - loss: 0.0032 - acc: 0.9995 - val_loss: 2.1633 - val_acc: 0.6766\n",
      "Epoch 20/20\n",
      "50000/50000 [==============================] - 98s - loss: 0.0015 - acc: 0.9999 - val_loss: 2.1868 - val_acc: 0.6764\n"
     ]
    }
   ],
   "source": [
    "res = model.fit(X_train,y_train,\n",
    "              batch_size=batch_size,\n",
    "              nb_epoch=nb_epoch,\n",
    "              validation_data=(X_test, y_test),\n",
    "              shuffle=True)"
   ]
  },
  {
   "cell_type": "code",
   "execution_count": 122,
   "metadata": {
    "collapsed": false
   },
   "outputs": [
    {
     "data": {
      "text/plain": [
       "[0.47492000000000001,\n",
       " 0.61092000000000002,\n",
       " 0.67486000000000002,\n",
       " 0.73365999999999998,\n",
       " 0.79330000000000001,\n",
       " 0.85211999999999999,\n",
       " 0.90061999999999998,\n",
       " 0.93262,\n",
       " 0.95382,\n",
       " 0.96911999999999998,\n",
       " 0.97846,\n",
       " 0.98063999999999996,\n",
       " 0.98185999999999996,\n",
       " 0.98807999999999996,\n",
       " 0.99304000000000003,\n",
       " 0.9909,\n",
       " 0.99646000000000001,\n",
       " 0.99850000000000005,\n",
       " 0.99946000000000002,\n",
       " 0.99985999999999997]"
      ]
     },
     "execution_count": 122,
     "metadata": {},
     "output_type": "execute_result"
    }
   ],
   "source": [
    "res.history['acc']"
   ]
  },
  {
   "cell_type": "code",
   "execution_count": 123,
   "metadata": {
    "collapsed": false
   },
   "outputs": [
    {
     "data": {
      "text/plain": [
       "[0.55410000000000004,\n",
       " 0.61109999999999998,\n",
       " 0.63260000000000005,\n",
       " 0.64229999999999998,\n",
       " 0.65200000000000002,\n",
       " 0.64890000000000003,\n",
       " 0.6482,\n",
       " 0.65490000000000004,\n",
       " 0.65629999999999999,\n",
       " 0.65790000000000004,\n",
       " 0.65290000000000004,\n",
       " 0.65190000000000003,\n",
       " 0.64359999999999995,\n",
       " 0.66439999999999999,\n",
       " 0.64990000000000003,\n",
       " 0.66000000000000003,\n",
       " 0.66820000000000002,\n",
       " 0.67190000000000005,\n",
       " 0.67659999999999998,\n",
       " 0.6764]"
      ]
     },
     "execution_count": 123,
     "metadata": {},
     "output_type": "execute_result"
    }
   ],
   "source": [
    "res.history['val_acc']"
   ]
  },
  {
   "cell_type": "code",
   "execution_count": 124,
   "metadata": {
    "collapsed": false
   },
   "outputs": [
    {
     "data": {
      "text/plain": [
       "{'acc': [0.47492000000000001,\n",
       "  0.61092000000000002,\n",
       "  0.67486000000000002,\n",
       "  0.73365999999999998,\n",
       "  0.79330000000000001,\n",
       "  0.85211999999999999,\n",
       "  0.90061999999999998,\n",
       "  0.93262,\n",
       "  0.95382,\n",
       "  0.96911999999999998,\n",
       "  0.97846,\n",
       "  0.98063999999999996,\n",
       "  0.98185999999999996,\n",
       "  0.98807999999999996,\n",
       "  0.99304000000000003,\n",
       "  0.9909,\n",
       "  0.99646000000000001,\n",
       "  0.99850000000000005,\n",
       "  0.99946000000000002,\n",
       "  0.99985999999999997],\n",
       " 'loss': [1.4669524943923951,\n",
       "  1.1078222452163697,\n",
       "  0.92394950201034542,\n",
       "  0.75946547008514409,\n",
       "  0.59225330893993378,\n",
       "  0.42905663615226747,\n",
       "  0.29053984926462173,\n",
       "  0.20016157974600793,\n",
       "  0.14119356430470945,\n",
       "  0.099113919003009796,\n",
       "  0.071057141507267954,\n",
       "  0.064161025527864693,\n",
       "  0.058295679935365913,\n",
       "  0.042391571484878661,\n",
       "  0.02474322745811194,\n",
       "  0.029892207865938544,\n",
       "  0.015133182902159169,\n",
       "  0.0083411476017953828,\n",
       "  0.0031803399879671633,\n",
       "  0.0015272969152592122],\n",
       " 'val_acc': [0.55410000000000004,\n",
       "  0.61109999999999998,\n",
       "  0.63260000000000005,\n",
       "  0.64229999999999998,\n",
       "  0.65200000000000002,\n",
       "  0.64890000000000003,\n",
       "  0.6482,\n",
       "  0.65490000000000004,\n",
       "  0.65629999999999999,\n",
       "  0.65790000000000004,\n",
       "  0.65290000000000004,\n",
       "  0.65190000000000003,\n",
       "  0.64359999999999995,\n",
       "  0.66439999999999999,\n",
       "  0.64990000000000003,\n",
       "  0.66000000000000003,\n",
       "  0.66820000000000002,\n",
       "  0.67190000000000005,\n",
       "  0.67659999999999998,\n",
       "  0.6764],\n",
       " 'val_loss': [1.279244164276123,\n",
       "  1.0972626651763917,\n",
       "  1.0558920315742493,\n",
       "  1.0462987036705018,\n",
       "  1.1044883114814759,\n",
       "  1.1923644918441771,\n",
       "  1.3249925870895385,\n",
       "  1.5000963759422303,\n",
       "  1.5604488156318665,\n",
       "  1.6648581138610841,\n",
       "  1.7964279647827148,\n",
       "  1.9211185971260072,\n",
       "  1.9422595016479491,\n",
       "  1.9623018589019776,\n",
       "  2.2666122230529786,\n",
       "  2.122183719444275,\n",
       "  2.1413727337837218,\n",
       "  2.1638162704467772,\n",
       "  2.1632502712249755,\n",
       "  2.1867772872924807]}"
      ]
     },
     "execution_count": 124,
     "metadata": {},
     "output_type": "execute_result"
    }
   ],
   "source": [
    "res.history"
   ]
  },
  {
   "cell_type": "code",
   "execution_count": 125,
   "metadata": {
    "collapsed": false
   },
   "outputs": [
    {
     "data": {
      "text/plain": [
       "<matplotlib.legend.Legend at 0x11dc17250>"
      ]
     },
     "execution_count": 125,
     "metadata": {},
     "output_type": "execute_result"
    },
    {
     "data": {
      "image/png": "[encoded data removed]",
      "text/plain": [
       "<matplotlib.figure.Figure at 0x11daa34d0>"
      ]
     },
     "metadata": {},
     "output_type": "display_data"
    }
   ],
   "source": [
    "x=range(nb_epoch)\n",
    "plt.plot(x,res.history['acc'],label='Training')\n",
    "plt.plot(x,res.history['val_acc'],label='Test')\n",
    "plt.xlabel('Number of Epochs')\n",
    "plt.ylabel('Accuracy Score')\n",
    "plt.legend(loc='best')"
   ]
  },
  {
   "cell_type": "code",
   "execution_count": 126,
   "metadata": {
    "collapsed": false
   },
   "outputs": [
    {
     "data": {
      "image/svg+xml": [
       "<svg height=\"620pt\" viewBox=\"0.00 0.00 404.00 620.00\" width=\"404pt\" xmlns=\"http://www.w3.org/2000/svg\" xmlns:xlink=\"http://www.w3.org/1999/xlink\">\n",
       "<g class=\"graph\" id=\"graph0\" transform=\"scale(1 1) rotate(0) translate(4 616)\">\n",
       "<title>G</title>\n",
       "<polygon fill=\"white\" points=\"-4,4 -4,-616 399.997,-616 399.997,4 -4,4\" stroke=\"transparent\"/>\n",
       "<!-- 4817685712 -->\n",
       "<g class=\"node\" id=\"node1\">\n",
       "<title>4817685712</title>\n",
       "<polygon fill=\"none\" points=\"0,-567.5 0,-611.5 395.997,-611.5 395.997,-567.5 0,-567.5\" stroke=\"black\"/>\n",
       "<text font-family=\"Times,serif\" font-size=\"14.00\" text-anchor=\"middle\" x=\"114.34\" y=\"-585.3\">convolution2d_input_10 (InputLayer)</text>\n",
       "<polyline fill=\"none\" points=\"228.68,-567.5 228.68,-611.5 \" stroke=\"black\"/>\n",
       "<text font-family=\"Times,serif\" font-size=\"14.00\" text-anchor=\"middle\" x=\"256.514\" y=\"-596.3\">input:</text>\n",
       "<polyline fill=\"none\" points=\"228.68,-589.5 284.349,-589.5 \" stroke=\"black\"/>\n",
       "<text font-family=\"Times,serif\" font-size=\"14.00\" text-anchor=\"middle\" x=\"256.514\" y=\"-574.3\">output:</text>\n",
       "<polyline fill=\"none\" points=\"284.349,-567.5 284.349,-611.5 \" stroke=\"black\"/>\n",
       "<text font-family=\"Times,serif\" font-size=\"14.00\" text-anchor=\"middle\" x=\"340.173\" y=\"-596.3\">(None, 3, 32, 32)</text>\n",
       "<polyline fill=\"none\" points=\"284.349,-589.5 395.997,-589.5 \" stroke=\"black\"/>\n",
       "<text font-family=\"Times,serif\" font-size=\"14.00\" text-anchor=\"middle\" x=\"340.173\" y=\"-574.3\">(None, 3, 32, 32)</text>\n",
       "</g>\n",
       "<!-- 4817685648 -->\n",
       "<g class=\"node\" id=\"node2\">\n",
       "<title>4817685648</title>\n",
       "<polygon fill=\"none\" points=\"1.92773,-486.5 1.92773,-530.5 394.069,-530.5 394.069,-486.5 1.92773,-486.5\" stroke=\"black\"/>\n",
       "<text font-family=\"Times,serif\" font-size=\"14.00\" text-anchor=\"middle\" x=\"110.84\" y=\"-504.3\">convolution2d_10 (Convolution2D)</text>\n",
       "<polyline fill=\"none\" points=\"219.752,-486.5 219.752,-530.5 \" stroke=\"black\"/>\n",
       "<text font-family=\"Times,serif\" font-size=\"14.00\" text-anchor=\"middle\" x=\"247.586\" y=\"-515.3\">input:</text>\n",
       "<polyline fill=\"none\" points=\"219.752,-508.5 275.421,-508.5 \" stroke=\"black\"/>\n",
       "<text font-family=\"Times,serif\" font-size=\"14.00\" text-anchor=\"middle\" x=\"247.586\" y=\"-493.3\">output:</text>\n",
       "<polyline fill=\"none\" points=\"275.421,-486.5 275.421,-530.5 \" stroke=\"black\"/>\n",
       "<text font-family=\"Times,serif\" font-size=\"14.00\" text-anchor=\"middle\" x=\"334.745\" y=\"-515.3\">(None, 3, 32, 32)</text>\n",
       "<polyline fill=\"none\" points=\"275.421,-508.5 394.069,-508.5 \" stroke=\"black\"/>\n",
       "<text font-family=\"Times,serif\" font-size=\"14.00\" text-anchor=\"middle\" x=\"334.745\" y=\"-493.3\">(None, 32, 32, 32)</text>\n",
       "</g>\n",
       "<!-- 4817685712&#45;&gt;4817685648 -->\n",
       "<g class=\"edge\" id=\"edge1\">\n",
       "<title>4817685712-&gt;4817685648</title>\n",
       "<path d=\"M197.999,-567.366C197.999,-559.152 197.999,-549.658 197.999,-540.725\" fill=\"none\" stroke=\"black\"/>\n",
       "<polygon fill=\"black\" points=\"201.499,-540.607 197.999,-530.607 194.499,-540.607 201.499,-540.607\" stroke=\"black\"/>\n",
       "</g>\n",
       "<!-- 4817684944 -->\n",
       "<g class=\"node\" id=\"node3\">\n",
       "<title>4817684944</title>\n",
       "<polygon fill=\"none\" points=\"28.7793,-405.5 28.7793,-449.5 367.218,-449.5 367.218,-405.5 28.7793,-405.5\" stroke=\"black\"/>\n",
       "<text font-family=\"Times,serif\" font-size=\"14.00\" text-anchor=\"middle\" x=\"110.84\" y=\"-423.3\">activation_19 (Activation)</text>\n",
       "<polyline fill=\"none\" points=\"192.9,-405.5 192.9,-449.5 \" stroke=\"black\"/>\n",
       "<text font-family=\"Times,serif\" font-size=\"14.00\" text-anchor=\"middle\" x=\"220.735\" y=\"-434.3\">input:</text>\n",
       "<polyline fill=\"none\" points=\"192.9,-427.5 248.569,-427.5 \" stroke=\"black\"/>\n",
       "<text font-family=\"Times,serif\" font-size=\"14.00\" text-anchor=\"middle\" x=\"220.735\" y=\"-412.3\">output:</text>\n",
       "<polyline fill=\"none\" points=\"248.569,-405.5 248.569,-449.5 \" stroke=\"black\"/>\n",
       "<text font-family=\"Times,serif\" font-size=\"14.00\" text-anchor=\"middle\" x=\"307.894\" y=\"-434.3\">(None, 32, 32, 32)</text>\n",
       "<polyline fill=\"none\" points=\"248.569,-427.5 367.218,-427.5 \" stroke=\"black\"/>\n",
       "<text font-family=\"Times,serif\" font-size=\"14.00\" text-anchor=\"middle\" x=\"307.894\" y=\"-412.3\">(None, 32, 32, 32)</text>\n",
       "</g>\n",
       "<!-- 4817685648&#45;&gt;4817684944 -->\n",
       "<g class=\"edge\" id=\"edge2\">\n",
       "<title>4817685648-&gt;4817684944</title>\n",
       "<path d=\"M197.999,-486.366C197.999,-478.152 197.999,-468.658 197.999,-459.725\" fill=\"none\" stroke=\"black\"/>\n",
       "<polygon fill=\"black\" points=\"201.499,-459.607 197.999,-449.607 194.499,-459.607 201.499,-459.607\" stroke=\"black\"/>\n",
       "</g>\n",
       "<!-- 4817743312 -->\n",
       "<g class=\"node\" id=\"node4\">\n",
       "<title>4817743312</title>\n",
       "<polygon fill=\"none\" points=\"2.31738,-324.5 2.31738,-368.5 393.68,-368.5 393.68,-324.5 2.31738,-324.5\" stroke=\"black\"/>\n",
       "<text font-family=\"Times,serif\" font-size=\"14.00\" text-anchor=\"middle\" x=\"110.84\" y=\"-342.3\">maxpooling2d_10 (MaxPooling2D)</text>\n",
       "<polyline fill=\"none\" points=\"219.362,-324.5 219.362,-368.5 \" stroke=\"black\"/>\n",
       "<text font-family=\"Times,serif\" font-size=\"14.00\" text-anchor=\"middle\" x=\"247.197\" y=\"-353.3\">input:</text>\n",
       "<polyline fill=\"none\" points=\"219.362,-346.5 275.031,-346.5 \" stroke=\"black\"/>\n",
       "<text font-family=\"Times,serif\" font-size=\"14.00\" text-anchor=\"middle\" x=\"247.197\" y=\"-331.3\">output:</text>\n",
       "<polyline fill=\"none\" points=\"275.031,-324.5 275.031,-368.5 \" stroke=\"black\"/>\n",
       "<text font-family=\"Times,serif\" font-size=\"14.00\" text-anchor=\"middle\" x=\"334.355\" y=\"-353.3\">(None, 32, 32, 32)</text>\n",
       "<polyline fill=\"none\" points=\"275.031,-346.5 393.68,-346.5 \" stroke=\"black\"/>\n",
       "<text font-family=\"Times,serif\" font-size=\"14.00\" text-anchor=\"middle\" x=\"334.355\" y=\"-331.3\">(None, 32, 16, 16)</text>\n",
       "</g>\n",
       "<!-- 4817684944&#45;&gt;4817743312 -->\n",
       "<g class=\"edge\" id=\"edge3\">\n",
       "<title>4817684944-&gt;4817743312</title>\n",
       "<path d=\"M197.999,-405.366C197.999,-397.152 197.999,-387.658 197.999,-378.725\" fill=\"none\" stroke=\"black\"/>\n",
       "<polygon fill=\"black\" points=\"201.499,-378.607 197.999,-368.607 194.499,-378.607 201.499,-378.607\" stroke=\"black\"/>\n",
       "</g>\n",
       "<!-- 4817742800 -->\n",
       "<g class=\"node\" id=\"node5\">\n",
       "<title>4817742800</title>\n",
       "<polygon fill=\"none\" points=\"48.9897,-243.5 48.9897,-287.5 347.007,-287.5 347.007,-243.5 48.9897,-243.5\" stroke=\"black\"/>\n",
       "<text font-family=\"Times,serif\" font-size=\"14.00\" text-anchor=\"middle\" x=\"110.84\" y=\"-261.3\">flatten_10 (Flatten)</text>\n",
       "<polyline fill=\"none\" points=\"172.69,-243.5 172.69,-287.5 \" stroke=\"black\"/>\n",
       "<text font-family=\"Times,serif\" font-size=\"14.00\" text-anchor=\"middle\" x=\"200.524\" y=\"-272.3\">input:</text>\n",
       "<polyline fill=\"none\" points=\"172.69,-265.5 228.359,-265.5 \" stroke=\"black\"/>\n",
       "<text font-family=\"Times,serif\" font-size=\"14.00\" text-anchor=\"middle\" x=\"200.524\" y=\"-250.3\">output:</text>\n",
       "<polyline fill=\"none\" points=\"228.359,-243.5 228.359,-287.5 \" stroke=\"black\"/>\n",
       "<text font-family=\"Times,serif\" font-size=\"14.00\" text-anchor=\"middle\" x=\"287.683\" y=\"-272.3\">(None, 32, 16, 16)</text>\n",
       "<polyline fill=\"none\" points=\"228.359,-265.5 347.007,-265.5 \" stroke=\"black\"/>\n",
       "<text font-family=\"Times,serif\" font-size=\"14.00\" text-anchor=\"middle\" x=\"287.683\" y=\"-250.3\">(None, 8192)</text>\n",
       "</g>\n",
       "<!-- 4817743312&#45;&gt;4817742800 -->\n",
       "<g class=\"edge\" id=\"edge4\">\n",
       "<title>4817743312-&gt;4817742800</title>\n",
       "<path d=\"M197.999,-324.366C197.999,-316.152 197.999,-306.658 197.999,-297.725\" fill=\"none\" stroke=\"black\"/>\n",
       "<polygon fill=\"black\" points=\"201.499,-297.607 197.999,-287.607 194.499,-297.607 201.499,-297.607\" stroke=\"black\"/>\n",
       "</g>\n",
       "<!-- 4719777744 -->\n",
       "<g class=\"node\" id=\"node6\">\n",
       "<title>4719777744</title>\n",
       "<polygon fill=\"none\" points=\"66.4966,-162.5 66.4966,-206.5 329.5,-206.5 329.5,-162.5 66.4966,-162.5\" stroke=\"black\"/>\n",
       "<text font-family=\"Times,serif\" font-size=\"14.00\" text-anchor=\"middle\" x=\"124.84\" y=\"-180.3\">dense_19 (Dense)</text>\n",
       "<polyline fill=\"none\" points=\"183.183,-162.5 183.183,-206.5 \" stroke=\"black\"/>\n",
       "<text font-family=\"Times,serif\" font-size=\"14.00\" text-anchor=\"middle\" x=\"211.018\" y=\"-191.3\">input:</text>\n",
       "<polyline fill=\"none\" points=\"183.183,-184.5 238.852,-184.5 \" stroke=\"black\"/>\n",
       "<text font-family=\"Times,serif\" font-size=\"14.00\" text-anchor=\"middle\" x=\"211.018\" y=\"-169.3\">output:</text>\n",
       "<polyline fill=\"none\" points=\"238.852,-162.5 238.852,-206.5 \" stroke=\"black\"/>\n",
       "<text font-family=\"Times,serif\" font-size=\"14.00\" text-anchor=\"middle\" x=\"284.176\" y=\"-191.3\">(None, 8192)</text>\n",
       "<polyline fill=\"none\" points=\"238.852,-184.5 329.5,-184.5 \" stroke=\"black\"/>\n",
       "<text font-family=\"Times,serif\" font-size=\"14.00\" text-anchor=\"middle\" x=\"284.176\" y=\"-169.3\">(None, 512)</text>\n",
       "</g>\n",
       "<!-- 4817742800&#45;&gt;4719777744 -->\n",
       "<g class=\"edge\" id=\"edge5\">\n",
       "<title>4817742800-&gt;4719777744</title>\n",
       "<path d=\"M197.999,-243.366C197.999,-235.152 197.999,-225.658 197.999,-216.725\" fill=\"none\" stroke=\"black\"/>\n",
       "<polygon fill=\"black\" points=\"201.499,-216.607 197.999,-206.607 194.499,-216.607 201.499,-216.607\" stroke=\"black\"/>\n",
       "</g>\n",
       "<!-- 4719775888 -->\n",
       "<g class=\"node\" id=\"node7\">\n",
       "<title>4719775888</title>\n",
       "<polygon fill=\"none\" points=\"69.9966,-81.5 69.9966,-125.5 326,-125.5 326,-81.5 69.9966,-81.5\" stroke=\"black\"/>\n",
       "<text font-family=\"Times,serif\" font-size=\"14.00\" text-anchor=\"middle\" x=\"128.34\" y=\"-99.3\">dense_20 (Dense)</text>\n",
       "<polyline fill=\"none\" points=\"186.683,-81.5 186.683,-125.5 \" stroke=\"black\"/>\n",
       "<text font-family=\"Times,serif\" font-size=\"14.00\" text-anchor=\"middle\" x=\"214.518\" y=\"-110.3\">input:</text>\n",
       "<polyline fill=\"none\" points=\"186.683,-103.5 242.352,-103.5 \" stroke=\"black\"/>\n",
       "<text font-family=\"Times,serif\" font-size=\"14.00\" text-anchor=\"middle\" x=\"214.518\" y=\"-88.3\">output:</text>\n",
       "<polyline fill=\"none\" points=\"242.352,-81.5 242.352,-125.5 \" stroke=\"black\"/>\n",
       "<text font-family=\"Times,serif\" font-size=\"14.00\" text-anchor=\"middle\" x=\"284.176\" y=\"-110.3\">(None, 512)</text>\n",
       "<polyline fill=\"none\" points=\"242.352,-103.5 326,-103.5 \" stroke=\"black\"/>\n",
       "<text font-family=\"Times,serif\" font-size=\"14.00\" text-anchor=\"middle\" x=\"284.176\" y=\"-88.3\">(None, 10)</text>\n",
       "</g>\n",
       "<!-- 4719777744&#45;&gt;4719775888 -->\n",
       "<g class=\"edge\" id=\"edge6\">\n",
       "<title>4719777744-&gt;4719775888</title>\n",
       "<path d=\"M197.999,-162.366C197.999,-154.152 197.999,-144.658 197.999,-135.725\" fill=\"none\" stroke=\"black\"/>\n",
       "<polygon fill=\"black\" points=\"201.499,-135.607 197.999,-125.607 194.499,-135.607 201.499,-135.607\" stroke=\"black\"/>\n",
       "</g>\n",
       "<!-- 4818409616 -->\n",
       "<g class=\"node\" id=\"node8\">\n",
       "<title>4818409616</title>\n",
       "<polygon fill=\"none\" points=\"49.7793,-0.5 49.7793,-44.5 346.218,-44.5 346.218,-0.5 49.7793,-0.5\" stroke=\"black\"/>\n",
       "<text font-family=\"Times,serif\" font-size=\"14.00\" text-anchor=\"middle\" x=\"131.84\" y=\"-18.3\">activation_20 (Activation)</text>\n",
       "<polyline fill=\"none\" points=\"213.9,-0.5 213.9,-44.5 \" stroke=\"black\"/>\n",
       "<text font-family=\"Times,serif\" font-size=\"14.00\" text-anchor=\"middle\" x=\"241.735\" y=\"-29.3\">input:</text>\n",
       "<polyline fill=\"none\" points=\"213.9,-22.5 269.569,-22.5 \" stroke=\"black\"/>\n",
       "<text font-family=\"Times,serif\" font-size=\"14.00\" text-anchor=\"middle\" x=\"241.735\" y=\"-7.3\">output:</text>\n",
       "<polyline fill=\"none\" points=\"269.569,-0.5 269.569,-44.5 \" stroke=\"black\"/>\n",
       "<text font-family=\"Times,serif\" font-size=\"14.00\" text-anchor=\"middle\" x=\"307.894\" y=\"-29.3\">(None, 10)</text>\n",
       "<polyline fill=\"none\" points=\"269.569,-22.5 346.218,-22.5 \" stroke=\"black\"/>\n",
       "<text font-family=\"Times,serif\" font-size=\"14.00\" text-anchor=\"middle\" x=\"307.894\" y=\"-7.3\">(None, 10)</text>\n",
       "</g>\n",
       "<!-- 4719775888&#45;&gt;4818409616 -->\n",
       "<g class=\"edge\" id=\"edge7\">\n",
       "<title>4719775888-&gt;4818409616</title>\n",
       "<path d=\"M197.999,-81.3664C197.999,-73.1516 197.999,-63.6579 197.999,-54.7252\" fill=\"none\" stroke=\"black\"/>\n",
       "<polygon fill=\"black\" points=\"201.499,-54.6068 197.999,-44.6068 194.499,-54.6069 201.499,-54.6068\" stroke=\"black\"/>\n",
       "</g>\n",
       "</g>\n",
       "</svg>"
      ],
      "text/plain": [
       "<IPython.core.display.SVG object>"
      ]
     },
     "execution_count": 126,
     "metadata": {},
     "output_type": "execute_result"
    }
   ],
   "source": [
    "SVG(model_to_dot(model, show_shapes=True).create(prog='dot', format='svg'))"
   ]
  },
  {
   "cell_type": "code",
   "execution_count": null,
   "metadata": {
    "collapsed": false
   },
   "outputs": [],
   "source": []
  },
  {
   "cell_type": "markdown",
   "metadata": {},
   "source": [
    "# Model 2"
   ]
  },
  {
   "cell_type": "code",
   "execution_count": null,
   "metadata": {
    "collapsed": false
   },
   "outputs": [],
   "source": [
    "\n",
    "from keras.preprocessing.image import ImageDataGenerator\n",
    "datagen = ImageDataGenerator(\n",
    "        featurewise_center=False,  # set input mean to 0 over the dataset\n",
    "        samplewise_center=False,  # set each sample mean to 0\n",
    "        featurewise_std_normalization=False,  # divide inputs by std of the dataset\n",
    "        samplewise_std_normalization=False,  # divide each input by its std\n",
    "        zca_whitening=False,  # apply ZCA whitening\n",
    "        rotation_range=0,  # randomly rotate images in the range (degrees, 0 to 180)\n",
    "        width_shift_range=0.1,  # randomly shift images horizontally (fraction of total width)\n",
    "        height_shift_range=0.1,  # randomly shift images vertically (fraction of total height)\n",
    "        horizontal_flip=True,  # randomly flip images\n",
    "        vertical_flip=False)  # randomly flip images\n",
    "\n",
    "    # compute quantities required for featurewise normalization\n",
    "    # (std, mean, and principal components if ZCA whitening is applied)\n",
    "datagen.fit(X_train)\n",
    "\n",
    "    # fit the model on the batches generated by datagen.flow()\n",
    "model.fit_generator(datagen.flow(X_train, y_train,\n",
    "                        batch_size=batch_size),\n",
    "                        samples_per_epoch=X_train.shape[0],\n",
    "                        nb_epoch=nb_epoch,\n",
    "                        validation_data=(X_test, y_test))"
   ]
  },
  {
   "cell_type": "code",
   "execution_count": null,
   "metadata": {
    "collapsed": false
   },
   "outputs": [],
   "source": [
    "from keras.utils.visualize_util import plot\n",
    "plot(model, to_file='model.png')"
   ]
  },
  {
   "cell_type": "code",
   "execution_count": null,
   "metadata": {
    "collapsed": false
   },
   "outputs": [],
   "source": [
    "from IPython.display import SVG\n",
    "from keras.utils.visualize_util import model_to_dot\n",
    "\n",
    "SVG(model_to_dot(model).create(prog='dot', format='svg'))"
   ]
  },
  {
   "cell_type": "markdown",
   "metadata": {
    "collapsed": true
   },
   "source": [
    "# Model 3"
   ]
  },
  {
   "cell_type": "code",
   "execution_count": null,
   "metadata": {
    "collapsed": false
   },
   "outputs": [],
   "source": [
    "model2 = Sequential()\n",
    "model2.add(Convolution2D(32,3,3,border_mode='same',input_shape=(3,32,32)))\n",
    "model2.add(Activation('relu'))\n",
    "model2.add(MaxPooling2D(pool_size=(2,2)))\n",
    "\n",
    "model2.add(Convolution2D(32,3,3,border_mode='same'))\n",
    "model2.add(Activation('relu'))\n",
    "model2.add(MaxPooling2D(pool_size=(2,2)))\n",
    "\n",
    "model2.add(Convolution2D(32,3,3,border_mode='same'))\n",
    "model2.add(Activation('relu'))\n",
    "model2.add(MaxPooling2D(pool_size=(2,2)))\n",
    "\n",
    "model2.add(Convolution2D(32,3,3,border_mode='same'))\n",
    "model2.add(Activation('relu'))\n",
    "model2.add(MaxPooling2D(pool_size=(2,2)))\n",
    "\n",
    "model2.add(Convolution2D(32,3,3,border_mode='same'))\n",
    "model2.add(Activation('relu'))\n",
    "model2.add(MaxPooling2D(pool_size=(2,2)))\n",
    "\n",
    "model2.add(Flatten())\n",
    "model2.add(Dense(output_dim=512,input_dim=7200,activation='relu'))\n",
    "model2.add(Dense(output_dim=10,input_dim=512))\n",
    "model2.add(Activation('softmax'))\n",
    "\n",
    "#sgd = SGD(lr=0.01, decay=1e-6, momentum=0.9, nesterov=True)\n",
    "model2.compile(loss='categorical_crossentropy',\n",
    "              optimizer='Adam',\n",
    "              metrics=['accuracy'])\n",
    "\n",
    "model2.fit(X_train,y_train,\n",
    "              batch_size=batch_size,\n",
    "              nb_epoch=nb_epoch,\n",
    "              validation_data=(X_test, y_test),\n",
    "              shuffle=True)"
   ]
  },
  {
   "cell_type": "code",
   "execution_count": null,
   "metadata": {
    "collapsed": false,
    "scrolled": true
   },
   "outputs": [],
   "source": [
    "SVG(model_to_dot(model2).create(prog='dot', format='svg'))"
   ]
  },
  {
   "cell_type": "code",
   "execution_count": null,
   "metadata": {
    "collapsed": true
   },
   "outputs": [],
   "source": []
  }
 ],
 "metadata": {
  "hide_input": false,
  "kernelspec": {
   "display_name": "Python 2",
   "language": "python",
   "name": "python2"
  },
  "language_info": {
   "codemirror_mode": {
    "name": "ipython",
    "version": 2
   },
   "file_extension": ".py",
   "mimetype": "text/x-python",
   "name": "python",
   "nbconvert_exporter": "python",
   "pygments_lexer": "ipython2",
   "version": "2.7.12"
  },
  "latex_envs": {
   "bibliofile": "biblio.bib",
   "cite_by": "key",
   "current_citInitial": 1,
   "eqLabelWithNumbers": false,
   "eqNumInitial": 0
  },
  "nav_menu": {},
  "toc": {
   "navigate_menu": true,
   "number_sections": true,
   "sideBar": true,
   "threshold": 6,
   "toc_cell": false,
   "toc_section_display": "block",
   "toc_window_display": false
  }
 },
 "nbformat": 4,
 "nbformat_minor": 0
}
